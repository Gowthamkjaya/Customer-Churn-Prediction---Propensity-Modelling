{
 "cells": [
  {
   "cell_type": "markdown",
   "id": "b262c51e",
   "metadata": {},
   "source": [
    "# Loading Required Packages"
   ]
  },
  {
   "cell_type": "code",
   "execution_count": 88,
   "id": "c0b68614",
   "metadata": {},
   "outputs": [],
   "source": [
    "import numpy as np\n",
    "import matplotlib.pyplot as plt\n",
    "import pandas as pd\n",
    "import seaborn as sns\n",
    "\n",
    "import statistics as st\n",
    "from scipy.stats import norm\n",
    "\n",
    "from sklearn.impute import SimpleImputer\n",
    "from sklearn.preprocessing import LabelEncoder, StandardScaler\n",
    "from sklearn.model_selection import train_test_split\n",
    "from sklearn.neighbors import KNeighborsClassifier\n",
    "from sklearn.linear_model import LogisticRegression\n",
    "from sklearn.svm import SVC\n",
    "from sklearn.naive_bayes import GaussianNB\n",
    "from sklearn.tree import DecisionTreeClassifier\n",
    "from sklearn.ensemble import RandomForestClassifier\n",
    "    \n",
    "from sklearn.metrics import confusion_matrix, accuracy_score, classification_report, auc, roc_auc_score, roc_curve\n",
    "from sklearn.metrics import f1_score, precision_score, recall_score\n",
    "from sklearn.model_selection import cross_val_score, GridSearchCV"
   ]
  },
  {
   "cell_type": "markdown",
   "id": "2ec75215",
   "metadata": {},
   "source": [
    "# Loading the Table"
   ]
  },
  {
   "cell_type": "code",
   "execution_count": 6,
   "id": "88d45643",
   "metadata": {},
   "outputs": [],
   "source": [
    "df = pd.read_csv('Customer Churn Data.csv')"
   ]
  },
  {
   "cell_type": "code",
   "execution_count": 21,
   "id": "5b03d65a",
   "metadata": {},
   "outputs": [
    {
     "data": {
      "text/plain": [
       "(98, 16)"
      ]
     },
     "execution_count": 21,
     "metadata": {},
     "output_type": "execute_result"
    }
   ],
   "source": [
    "df.shape"
   ]
  },
  {
   "cell_type": "code",
   "execution_count": 7,
   "id": "37ab2861",
   "metadata": {},
   "outputs": [
    {
     "data": {
      "text/html": [
       "<div>\n",
       "<style scoped>\n",
       "    .dataframe tbody tr th:only-of-type {\n",
       "        vertical-align: middle;\n",
       "    }\n",
       "\n",
       "    .dataframe tbody tr th {\n",
       "        vertical-align: top;\n",
       "    }\n",
       "\n",
       "    .dataframe thead th {\n",
       "        text-align: right;\n",
       "    }\n",
       "</style>\n",
       "<table border=\"1\" class=\"dataframe\">\n",
       "  <thead>\n",
       "    <tr style=\"text-align: right;\">\n",
       "      <th></th>\n",
       "      <th>Fund ID</th>\n",
       "      <th>Asset ID</th>\n",
       "      <th>Transaction Type</th>\n",
       "      <th>Post Type</th>\n",
       "      <th>Account End Date</th>\n",
       "      <th>Share Quantity</th>\n",
       "      <th>Cancel Indicator</th>\n",
       "      <th>Net Value</th>\n",
       "      <th>Count</th>\n",
       "      <th>Currency</th>\n",
       "      <th>MJR Industry</th>\n",
       "      <th>Flag Type</th>\n",
       "      <th>Broker Key</th>\n",
       "      <th>KPI Client ID</th>\n",
       "      <th>KPI Client Name</th>\n",
       "      <th>Client Fund Group</th>\n",
       "    </tr>\n",
       "  </thead>\n",
       "  <tbody>\n",
       "    <tr>\n",
       "      <th>0</th>\n",
       "      <td>VQ90</td>\n",
       "      <td>AYYQ276</td>\n",
       "      <td>Buy</td>\n",
       "      <td>TRADU</td>\n",
       "      <td>13-01-2022</td>\n",
       "      <td>18</td>\n",
       "      <td>Y</td>\n",
       "      <td>6232.39</td>\n",
       "      <td>4</td>\n",
       "      <td>USD</td>\n",
       "      <td>SW</td>\n",
       "      <td>CA</td>\n",
       "      <td>TRADU-SW</td>\n",
       "      <td>NaN</td>\n",
       "      <td>Kelly-Warren</td>\n",
       "      <td>DC Funds</td>\n",
       "    </tr>\n",
       "    <tr>\n",
       "      <th>1</th>\n",
       "      <td>BF27</td>\n",
       "      <td>ACVO308</td>\n",
       "      <td>Buy</td>\n",
       "      <td>TRADS</td>\n",
       "      <td>12-01-2022</td>\n",
       "      <td>13</td>\n",
       "      <td>N</td>\n",
       "      <td>5513.07</td>\n",
       "      <td>5</td>\n",
       "      <td>USD</td>\n",
       "      <td>CP</td>\n",
       "      <td>CA</td>\n",
       "      <td>TRADS-CP</td>\n",
       "      <td>NaN</td>\n",
       "      <td>Reynolds-Sheppard</td>\n",
       "      <td>MJ Funds</td>\n",
       "    </tr>\n",
       "    <tr>\n",
       "      <th>2</th>\n",
       "      <td>YE30</td>\n",
       "      <td>TMER415</td>\n",
       "      <td>Buy</td>\n",
       "      <td>TRADC</td>\n",
       "      <td>17-01-2022</td>\n",
       "      <td>38</td>\n",
       "      <td>N</td>\n",
       "      <td>8366.11</td>\n",
       "      <td>1</td>\n",
       "      <td>USD</td>\n",
       "      <td>SJ</td>\n",
       "      <td>CA</td>\n",
       "      <td>TRADC-SJ</td>\n",
       "      <td>NaN</td>\n",
       "      <td>Reynolds-Sheppard</td>\n",
       "      <td>RM Funds</td>\n",
       "    </tr>\n",
       "    <tr>\n",
       "      <th>3</th>\n",
       "      <td>XC55</td>\n",
       "      <td>MBTZ482</td>\n",
       "      <td>Sell</td>\n",
       "      <td>TRADU</td>\n",
       "      <td>16-01-2022</td>\n",
       "      <td>2</td>\n",
       "      <td>N</td>\n",
       "      <td>5103.97</td>\n",
       "      <td>2</td>\n",
       "      <td>USD</td>\n",
       "      <td>SJ</td>\n",
       "      <td>CA</td>\n",
       "      <td>TRADU-SJ</td>\n",
       "      <td>NaN</td>\n",
       "      <td>Wilson PLC</td>\n",
       "      <td>MJ Funds</td>\n",
       "    </tr>\n",
       "    <tr>\n",
       "      <th>4</th>\n",
       "      <td>ZY12</td>\n",
       "      <td>UWNH428</td>\n",
       "      <td>Sell</td>\n",
       "      <td>TRADB</td>\n",
       "      <td>23-01-2022</td>\n",
       "      <td>3</td>\n",
       "      <td>N</td>\n",
       "      <td>8775.69</td>\n",
       "      <td>5</td>\n",
       "      <td>USD</td>\n",
       "      <td>SI</td>\n",
       "      <td>CA</td>\n",
       "      <td>TRADB-SI</td>\n",
       "      <td>NaN</td>\n",
       "      <td>Love-Jones</td>\n",
       "      <td>MJ Funds</td>\n",
       "    </tr>\n",
       "  </tbody>\n",
       "</table>\n",
       "</div>"
      ],
      "text/plain": [
       "  Fund ID Asset ID Transaction Type Post Type Account End Date  \\\n",
       "0    VQ90  AYYQ276              Buy     TRADU       13-01-2022   \n",
       "1    BF27  ACVO308              Buy     TRADS       12-01-2022   \n",
       "2    YE30  TMER415              Buy     TRADC       17-01-2022   \n",
       "3    XC55  MBTZ482             Sell     TRADU       16-01-2022   \n",
       "4    ZY12  UWNH428             Sell     TRADB       23-01-2022   \n",
       "\n",
       "   Share Quantity Cancel Indicator  Net Value  Count Currency MJR Industry  \\\n",
       "0              18                Y    6232.39      4      USD           SW   \n",
       "1              13                N    5513.07      5      USD           CP   \n",
       "2              38                N    8366.11      1      USD           SJ   \n",
       "3               2                N    5103.97      2      USD           SJ   \n",
       "4               3                N    8775.69      5      USD           SI   \n",
       "\n",
       "  Flag Type Broker Key  KPI Client ID    KPI Client Name Client Fund Group  \n",
       "0        CA   TRADU-SW            NaN       Kelly-Warren          DC Funds  \n",
       "1        CA   TRADS-CP            NaN  Reynolds-Sheppard          MJ Funds  \n",
       "2        CA   TRADC-SJ            NaN  Reynolds-Sheppard          RM Funds  \n",
       "3        CA   TRADU-SJ            NaN         Wilson PLC          MJ Funds  \n",
       "4        CA   TRADB-SI            NaN         Love-Jones          MJ Funds  "
      ]
     },
     "execution_count": 7,
     "metadata": {},
     "output_type": "execute_result"
    }
   ],
   "source": [
    "df.head()"
   ]
  },
  {
   "cell_type": "code",
   "execution_count": 8,
   "id": "687a8bca",
   "metadata": {},
   "outputs": [
    {
     "data": {
      "text/plain": [
       "Index(['Fund ID', 'Asset ID', 'Transaction Type', 'Post Type',\n",
       "       'Account End Date', 'Share Quantity', 'Cancel Indicator', 'Net Value',\n",
       "       'Count', 'Currency', 'MJR Industry', 'Flag Type', 'Broker Key',\n",
       "       'KPI Client ID', 'KPI Client Name', 'Client Fund Group'],\n",
       "      dtype='object')"
      ]
     },
     "execution_count": 8,
     "metadata": {},
     "output_type": "execute_result"
    }
   ],
   "source": [
    "df.columns"
   ]
  },
  {
   "cell_type": "code",
   "execution_count": 9,
   "id": "e6f93561",
   "metadata": {},
   "outputs": [
    {
     "data": {
      "text/html": [
       "<div>\n",
       "<style scoped>\n",
       "    .dataframe tbody tr th:only-of-type {\n",
       "        vertical-align: middle;\n",
       "    }\n",
       "\n",
       "    .dataframe tbody tr th {\n",
       "        vertical-align: top;\n",
       "    }\n",
       "\n",
       "    .dataframe thead th {\n",
       "        text-align: right;\n",
       "    }\n",
       "</style>\n",
       "<table border=\"1\" class=\"dataframe\">\n",
       "  <thead>\n",
       "    <tr style=\"text-align: right;\">\n",
       "      <th></th>\n",
       "      <th>Share Quantity</th>\n",
       "      <th>Net Value</th>\n",
       "      <th>Count</th>\n",
       "      <th>KPI Client ID</th>\n",
       "    </tr>\n",
       "  </thead>\n",
       "  <tbody>\n",
       "    <tr>\n",
       "      <th>count</th>\n",
       "      <td>98.000000</td>\n",
       "      <td>98.000000</td>\n",
       "      <td>98.000000</td>\n",
       "      <td>0.0</td>\n",
       "    </tr>\n",
       "    <tr>\n",
       "      <th>mean</th>\n",
       "      <td>20.132653</td>\n",
       "      <td>6682.314082</td>\n",
       "      <td>3.020408</td>\n",
       "      <td>NaN</td>\n",
       "    </tr>\n",
       "    <tr>\n",
       "      <th>std</th>\n",
       "      <td>11.635032</td>\n",
       "      <td>1342.645229</td>\n",
       "      <td>1.346853</td>\n",
       "      <td>NaN</td>\n",
       "    </tr>\n",
       "    <tr>\n",
       "      <th>min</th>\n",
       "      <td>1.000000</td>\n",
       "      <td>4567.350000</td>\n",
       "      <td>1.000000</td>\n",
       "      <td>NaN</td>\n",
       "    </tr>\n",
       "    <tr>\n",
       "      <th>25%</th>\n",
       "      <td>10.250000</td>\n",
       "      <td>5519.037500</td>\n",
       "      <td>2.000000</td>\n",
       "      <td>NaN</td>\n",
       "    </tr>\n",
       "    <tr>\n",
       "      <th>50%</th>\n",
       "      <td>19.000000</td>\n",
       "      <td>6664.610000</td>\n",
       "      <td>3.000000</td>\n",
       "      <td>NaN</td>\n",
       "    </tr>\n",
       "    <tr>\n",
       "      <th>75%</th>\n",
       "      <td>30.000000</td>\n",
       "      <td>7751.390000</td>\n",
       "      <td>4.000000</td>\n",
       "      <td>NaN</td>\n",
       "    </tr>\n",
       "    <tr>\n",
       "      <th>max</th>\n",
       "      <td>40.000000</td>\n",
       "      <td>9005.340000</td>\n",
       "      <td>5.000000</td>\n",
       "      <td>NaN</td>\n",
       "    </tr>\n",
       "  </tbody>\n",
       "</table>\n",
       "</div>"
      ],
      "text/plain": [
       "       Share Quantity    Net Value      Count  KPI Client ID\n",
       "count       98.000000    98.000000  98.000000            0.0\n",
       "mean        20.132653  6682.314082   3.020408            NaN\n",
       "std         11.635032  1342.645229   1.346853            NaN\n",
       "min          1.000000  4567.350000   1.000000            NaN\n",
       "25%         10.250000  5519.037500   2.000000            NaN\n",
       "50%         19.000000  6664.610000   3.000000            NaN\n",
       "75%         30.000000  7751.390000   4.000000            NaN\n",
       "max         40.000000  9005.340000   5.000000            NaN"
      ]
     },
     "execution_count": 9,
     "metadata": {},
     "output_type": "execute_result"
    }
   ],
   "source": [
    "df.describe()"
   ]
  },
  {
   "cell_type": "code",
   "execution_count": 10,
   "id": "626d35df",
   "metadata": {},
   "outputs": [
    {
     "data": {
      "text/plain": [
       "Fund ID               object\n",
       "Asset ID              object\n",
       "Transaction Type      object\n",
       "Post Type             object\n",
       "Account End Date      object\n",
       "Share Quantity         int64\n",
       "Cancel Indicator      object\n",
       "Net Value            float64\n",
       "Count                  int64\n",
       "Currency              object\n",
       "MJR Industry          object\n",
       "Flag Type             object\n",
       "Broker Key            object\n",
       "KPI Client ID        float64\n",
       "KPI Client Name       object\n",
       "Client Fund Group     object\n",
       "dtype: object"
      ]
     },
     "execution_count": 10,
     "metadata": {},
     "output_type": "execute_result"
    }
   ],
   "source": [
    "df.dtypes"
   ]
  },
  {
   "cell_type": "code",
   "execution_count": 17,
   "id": "95d0ca3f",
   "metadata": {},
   "outputs": [
    {
     "data": {
      "text/plain": [
       "{int64: ['Share Quantity', 'Count'], float64: ['Net Value', 'KPI Client ID'], object: ['Fund ID', 'Asset ID', 'Transaction Type', 'Post Type', 'Account End Date', 'Cancel Indicator', 'Currency', 'MJR Industry', 'Flag Type', 'Broker Key', 'KPI Client Name', 'Client Fund Group']}"
      ]
     },
     "execution_count": 17,
     "metadata": {},
     "output_type": "execute_result"
    }
   ],
   "source": [
    "df.columns.to_series().groupby(df.dtypes).groups"
   ]
  },
  {
   "cell_type": "code",
   "execution_count": 18,
   "id": "ed2ee1dc",
   "metadata": {},
   "outputs": [
    {
     "name": "stdout",
     "output_type": "stream",
     "text": [
      "<class 'pandas.core.frame.DataFrame'>\n",
      "RangeIndex: 98 entries, 0 to 97\n",
      "Data columns (total 16 columns):\n",
      " #   Column             Non-Null Count  Dtype  \n",
      "---  ------             --------------  -----  \n",
      " 0   Fund ID            98 non-null     object \n",
      " 1   Asset ID           98 non-null     object \n",
      " 2   Transaction Type   98 non-null     object \n",
      " 3   Post Type          98 non-null     object \n",
      " 4   Account End Date   98 non-null     object \n",
      " 5   Share Quantity     98 non-null     int64  \n",
      " 6   Cancel Indicator   98 non-null     object \n",
      " 7   Net Value          98 non-null     float64\n",
      " 8   Count              98 non-null     int64  \n",
      " 9   Currency           98 non-null     object \n",
      " 10  MJR Industry       98 non-null     object \n",
      " 11  Flag Type          98 non-null     object \n",
      " 12  Broker Key         98 non-null     object \n",
      " 13  KPI Client ID      0 non-null      float64\n",
      " 14  KPI Client Name    98 non-null     object \n",
      " 15  Client Fund Group  98 non-null     object \n",
      "dtypes: float64(2), int64(2), object(12)\n",
      "memory usage: 12.4+ KB\n"
     ]
    }
   ],
   "source": [
    "df.info()"
   ]
  },
  {
   "cell_type": "code",
   "execution_count": 20,
   "id": "86bd0ce6",
   "metadata": {},
   "outputs": [
    {
     "data": {
      "text/plain": [
       "Fund ID               0\n",
       "Asset ID              0\n",
       "Transaction Type      0\n",
       "Post Type             0\n",
       "Account End Date      0\n",
       "Share Quantity        0\n",
       "Cancel Indicator      0\n",
       "Net Value             0\n",
       "Count                 0\n",
       "Currency              0\n",
       "MJR Industry          0\n",
       "Flag Type             0\n",
       "Broker Key            0\n",
       "KPI Client ID        98\n",
       "KPI Client Name       0\n",
       "Client Fund Group     0\n",
       "dtype: int64"
      ]
     },
     "execution_count": 20,
     "metadata": {},
     "output_type": "execute_result"
    }
   ],
   "source": [
    "df.isna().sum()"
   ]
  },
  {
   "cell_type": "markdown",
   "id": "43eab701",
   "metadata": {},
   "source": [
    "# Exploratory Data Analysis"
   ]
  },
  {
   "cell_type": "code",
   "execution_count": 22,
   "id": "37749a08",
   "metadata": {},
   "outputs": [
    {
     "data": {
      "text/plain": [
       "Fund ID              98\n",
       "Asset ID             98\n",
       "Transaction Type      2\n",
       "Post Type             4\n",
       "Account End Date     30\n",
       "Share Quantity       39\n",
       "Cancel Indicator      2\n",
       "Net Value            98\n",
       "Count                 5\n",
       "Currency              1\n",
       "MJR Industry          4\n",
       "Flag Type             2\n",
       "Broker Key           16\n",
       "KPI Client ID         0\n",
       "KPI Client Name       8\n",
       "Client Fund Group     6\n",
       "dtype: int64"
      ]
     },
     "execution_count": 22,
     "metadata": {},
     "output_type": "execute_result"
    }
   ],
   "source": [
    "# Unique Value Distribution\n",
    "df.nunique()"
   ]
  },
  {
   "cell_type": "code",
   "execution_count": 25,
   "id": "8ac66034",
   "metadata": {},
   "outputs": [
    {
     "data": {
      "image/png": "[encoded data removed]",
      "text/plain": [
       "<Figure size 360x360 with 1 Axes>"
      ]
     },
     "metadata": {
      "needs_background": "light"
     },
     "output_type": "display_data"
    }
   ],
   "source": [
    "# Checking whethere Net Value can be dropped or not\n",
    "sns.displot(x = 'Net Value', data = df, kde = True);"
   ]
  },
  {
   "cell_type": "markdown",
   "id": "13fb3b62",
   "metadata": {},
   "source": [
    "* Net Value Column contains different info and shall be retained"
   ]
  },
  {
   "cell_type": "code",
   "execution_count": 26,
   "id": "cccf9d8f",
   "metadata": {},
   "outputs": [
    {
     "data": {
      "text/html": [
       "<div>\n",
       "<style scoped>\n",
       "    .dataframe tbody tr th:only-of-type {\n",
       "        vertical-align: middle;\n",
       "    }\n",
       "\n",
       "    .dataframe tbody tr th {\n",
       "        vertical-align: top;\n",
       "    }\n",
       "\n",
       "    .dataframe thead th {\n",
       "        text-align: right;\n",
       "    }\n",
       "</style>\n",
       "<table border=\"1\" class=\"dataframe\">\n",
       "  <thead>\n",
       "    <tr style=\"text-align: right;\">\n",
       "      <th></th>\n",
       "      <th>Transaction Type</th>\n",
       "      <th>Post Type</th>\n",
       "      <th>Account End Date</th>\n",
       "      <th>Share Quantity</th>\n",
       "      <th>Cancel Indicator</th>\n",
       "      <th>Net Value</th>\n",
       "      <th>Count</th>\n",
       "      <th>MJR Industry</th>\n",
       "      <th>Flag Type</th>\n",
       "      <th>Broker Key</th>\n",
       "      <th>KPI Client Name</th>\n",
       "      <th>Client Fund Group</th>\n",
       "    </tr>\n",
       "  </thead>\n",
       "  <tbody>\n",
       "    <tr>\n",
       "      <th>0</th>\n",
       "      <td>Buy</td>\n",
       "      <td>TRADU</td>\n",
       "      <td>13-01-2022</td>\n",
       "      <td>18</td>\n",
       "      <td>Y</td>\n",
       "      <td>6232.39</td>\n",
       "      <td>4</td>\n",
       "      <td>SW</td>\n",
       "      <td>CA</td>\n",
       "      <td>TRADU-SW</td>\n",
       "      <td>Kelly-Warren</td>\n",
       "      <td>DC Funds</td>\n",
       "    </tr>\n",
       "    <tr>\n",
       "      <th>1</th>\n",
       "      <td>Buy</td>\n",
       "      <td>TRADS</td>\n",
       "      <td>12-01-2022</td>\n",
       "      <td>13</td>\n",
       "      <td>N</td>\n",
       "      <td>5513.07</td>\n",
       "      <td>5</td>\n",
       "      <td>CP</td>\n",
       "      <td>CA</td>\n",
       "      <td>TRADS-CP</td>\n",
       "      <td>Reynolds-Sheppard</td>\n",
       "      <td>MJ Funds</td>\n",
       "    </tr>\n",
       "    <tr>\n",
       "      <th>2</th>\n",
       "      <td>Buy</td>\n",
       "      <td>TRADC</td>\n",
       "      <td>17-01-2022</td>\n",
       "      <td>38</td>\n",
       "      <td>N</td>\n",
       "      <td>8366.11</td>\n",
       "      <td>1</td>\n",
       "      <td>SJ</td>\n",
       "      <td>CA</td>\n",
       "      <td>TRADC-SJ</td>\n",
       "      <td>Reynolds-Sheppard</td>\n",
       "      <td>RM Funds</td>\n",
       "    </tr>\n",
       "    <tr>\n",
       "      <th>3</th>\n",
       "      <td>Sell</td>\n",
       "      <td>TRADU</td>\n",
       "      <td>16-01-2022</td>\n",
       "      <td>2</td>\n",
       "      <td>N</td>\n",
       "      <td>5103.97</td>\n",
       "      <td>2</td>\n",
       "      <td>SJ</td>\n",
       "      <td>CA</td>\n",
       "      <td>TRADU-SJ</td>\n",
       "      <td>Wilson PLC</td>\n",
       "      <td>MJ Funds</td>\n",
       "    </tr>\n",
       "    <tr>\n",
       "      <th>4</th>\n",
       "      <td>Sell</td>\n",
       "      <td>TRADB</td>\n",
       "      <td>23-01-2022</td>\n",
       "      <td>3</td>\n",
       "      <td>N</td>\n",
       "      <td>8775.69</td>\n",
       "      <td>5</td>\n",
       "      <td>SI</td>\n",
       "      <td>CA</td>\n",
       "      <td>TRADB-SI</td>\n",
       "      <td>Love-Jones</td>\n",
       "      <td>MJ Funds</td>\n",
       "    </tr>\n",
       "  </tbody>\n",
       "</table>\n",
       "</div>"
      ],
      "text/plain": [
       "  Transaction Type Post Type Account End Date  Share Quantity  \\\n",
       "0              Buy     TRADU       13-01-2022              18   \n",
       "1              Buy     TRADS       12-01-2022              13   \n",
       "2              Buy     TRADC       17-01-2022              38   \n",
       "3             Sell     TRADU       16-01-2022               2   \n",
       "4             Sell     TRADB       23-01-2022               3   \n",
       "\n",
       "  Cancel Indicator  Net Value  Count MJR Industry Flag Type Broker Key  \\\n",
       "0                Y    6232.39      4           SW        CA   TRADU-SW   \n",
       "1                N    5513.07      5           CP        CA   TRADS-CP   \n",
       "2                N    8366.11      1           SJ        CA   TRADC-SJ   \n",
       "3                N    5103.97      2           SJ        CA   TRADU-SJ   \n",
       "4                N    8775.69      5           SI        CA   TRADB-SI   \n",
       "\n",
       "     KPI Client Name Client Fund Group  \n",
       "0       Kelly-Warren          DC Funds  \n",
       "1  Reynolds-Sheppard          MJ Funds  \n",
       "2  Reynolds-Sheppard          RM Funds  \n",
       "3         Wilson PLC          MJ Funds  \n",
       "4         Love-Jones          MJ Funds  "
      ]
     },
     "execution_count": 26,
     "metadata": {},
     "output_type": "execute_result"
    }
   ],
   "source": [
    "# Fund ID, Asset ID, Currency, KPI Client ID columns can be dropped\n",
    "cols = ['Fund ID', 'Asset ID', 'Currency', 'KPI Client ID']\n",
    "df1 = df.drop(columns = cols)\n",
    "df1.head()"
   ]
  },
  {
   "cell_type": "markdown",
   "id": "e4081049",
   "metadata": {},
   "source": [
    "### Distribution of the Target Variable"
   ]
  },
  {
   "cell_type": "code",
   "execution_count": 33,
   "id": "cf95e435",
   "metadata": {},
   "outputs": [
    {
     "name": "stdout",
     "output_type": "stream",
     "text": [
      "N    80\n",
      "Y    18\n",
      "Name: Cancel Indicator, dtype: int64\n"
     ]
    },
    {
     "data": {
      "image/png": "[encoded data removed]",
      "text/plain": [
       "<Figure size 432x288 with 1 Axes>"
      ]
     },
     "metadata": {
      "needs_background": "light"
     },
     "output_type": "display_data"
    }
   ],
   "source": [
    "print(df1['Cancel Indicator'].value_counts())\n",
    "sns.countplot(x = 'Cancel Indicator', data = df1);"
   ]
  },
  {
   "cell_type": "markdown",
   "id": "50d2e65e",
   "metadata": {},
   "source": [
    "* Very highly Imbalanced, Will try to balace the learning by Under-sampling, Over-sampling, SMOTE and Weights"
   ]
  },
  {
   "cell_type": "markdown",
   "id": "c140f029",
   "metadata": {},
   "source": [
    "# Exploring other Distributions"
   ]
  },
  {
   "cell_type": "code",
   "execution_count": 35,
   "id": "ad19dede",
   "metadata": {},
   "outputs": [
    {
     "data": {
      "text/plain": [
       "Index(['Transaction Type', 'Post Type', 'Account End Date', 'Share Quantity',\n",
       "       'Cancel Indicator', 'Net Value', 'Count', 'MJR Industry', 'Flag Type',\n",
       "       'Broker Key', 'KPI Client Name', 'Client Fund Group'],\n",
       "      dtype='object')"
      ]
     },
     "execution_count": 35,
     "metadata": {},
     "output_type": "execute_result"
    }
   ],
   "source": [
    "df1.columns"
   ]
  },
  {
   "cell_type": "code",
   "execution_count": 48,
   "id": "198c05c1",
   "metadata": {},
   "outputs": [],
   "source": [
    "# Converting Account End Date to Data Datatype\n",
    "df1['Account End Date'] = pd.DatetimeIndex(df1['Account End Date'])"
   ]
  },
  {
   "cell_type": "code",
   "execution_count": 50,
   "id": "0f10a1e6",
   "metadata": {},
   "outputs": [
    {
     "data": {
      "text/plain": [
       "Transaction Type             object\n",
       "Post Type                    object\n",
       "Account End Date     datetime64[ns]\n",
       "Share Quantity                int64\n",
       "Cancel Indicator             object\n",
       "Net Value                   float64\n",
       "Count                         int64\n",
       "MJR Industry                 object\n",
       "Flag Type                    object\n",
       "Broker Key                   object\n",
       "KPI Client Name              object\n",
       "Client Fund Group            object\n",
       "dtype: object"
      ]
     },
     "execution_count": 50,
     "metadata": {},
     "output_type": "execute_result"
    }
   ],
   "source": [
    "df1.dtypes"
   ]
  },
  {
   "cell_type": "code",
   "execution_count": 55,
   "id": "63936e78",
   "metadata": {},
   "outputs": [
    {
     "data": {
      "text/plain": [
       "['Share Quantity', 'Net Value', 'Count']"
      ]
     },
     "execution_count": 55,
     "metadata": {},
     "output_type": "execute_result"
    }
   ],
   "source": [
    "numericalcols = list(df1.columns[(df1.dtypes == \"int64\") | (df1.dtypes == \"float64\")])\n",
    "numericalcols"
   ]
  },
  {
   "cell_type": "code",
   "execution_count": 56,
   "id": "29929e1e",
   "metadata": {},
   "outputs": [
    {
     "data": {
      "text/plain": [
       "['Transaction Type',\n",
       " 'Post Type',\n",
       " 'Cancel Indicator',\n",
       " 'MJR Industry',\n",
       " 'Flag Type',\n",
       " 'Broker Key',\n",
       " 'KPI Client Name',\n",
       " 'Client Fund Group']"
      ]
     },
     "execution_count": 56,
     "metadata": {},
     "output_type": "execute_result"
    }
   ],
   "source": [
    "categoricalcols = list(df1.columns[df1.dtypes == \"object\"])\n",
    "categoricalcols"
   ]
  },
  {
   "cell_type": "markdown",
   "id": "5541ae71",
   "metadata": {},
   "source": [
    "# Distribution of Numerical Columns"
   ]
  },
  {
   "cell_type": "code",
   "execution_count": 70,
   "id": "b2f3441c",
   "metadata": {
    "scrolled": false
   },
   "outputs": [
    {
     "data": {
      "image/png": "[encoded data removed]",
      "text/plain": [
       "<Figure size 360x360 with 1 Axes>"
      ]
     },
     "metadata": {
      "needs_background": "light"
     },
     "output_type": "display_data"
    },
    {
     "data": {
      "image/png": "[encoded data removed]",
      "text/plain": [
       "<Figure size 360x360 with 1 Axes>"
      ]
     },
     "metadata": {
      "needs_background": "light"
     },
     "output_type": "display_data"
    },
    {
     "data": {
      "image/png": "[encoded data removed]",
      "text/plain": [
       "<Figure size 360x360 with 1 Axes>"
      ]
     },
     "metadata": {
      "needs_background": "light"
     },
     "output_type": "display_data"
    }
   ],
   "source": [
    "for i in numericalcols:\n",
    "    sns.displot(x = i, data = df1, kde = True)"
   ]
  },
  {
   "cell_type": "markdown",
   "id": "5eea8594",
   "metadata": {},
   "source": [
    "# Distribution of Categorical Columns"
   ]
  },
  {
   "cell_type": "code",
   "execution_count": 71,
   "id": "08c4eeeb",
   "metadata": {},
   "outputs": [
    {
     "data": {
      "text/plain": [
       "['Transaction Type',\n",
       " 'Post Type',\n",
       " 'Cancel Indicator',\n",
       " 'MJR Industry',\n",
       " 'Flag Type',\n",
       " 'Broker Key',\n",
       " 'KPI Client Name',\n",
       " 'Client Fund Group']"
      ]
     },
     "execution_count": 71,
     "metadata": {},
     "output_type": "execute_result"
    }
   ],
   "source": [
    "categoricalcols"
   ]
  },
  {
   "cell_type": "code",
   "execution_count": 72,
   "id": "713b03ff",
   "metadata": {},
   "outputs": [
    {
     "data": {
      "text/plain": [
       "Transaction Type      2\n",
       "Post Type             4\n",
       "Cancel Indicator      2\n",
       "MJR Industry          4\n",
       "Flag Type             2\n",
       "Broker Key           16\n",
       "KPI Client Name       8\n",
       "Client Fund Group     6\n",
       "dtype: int64"
      ]
     },
     "execution_count": 72,
     "metadata": {},
     "output_type": "execute_result"
    }
   ],
   "source": [
    "df1[categoricalcols].nunique()"
   ]
  },
  {
   "cell_type": "code",
   "execution_count": 85,
   "id": "83ed0923",
   "metadata": {
    "scrolled": false
   },
   "outputs": [
    {
     "data": {
      "image/png": "[encoded data removed]",
      "text/plain": [
       "<Figure size 432x288 with 1 Axes>"
      ]
     },
     "metadata": {
      "needs_background": "light"
     },
     "output_type": "display_data"
    },
    {
     "data": {
      "image/png": "[encoded data removed]",
      "text/plain": [
       "<Figure size 432x288 with 1 Axes>"
      ]
     },
     "metadata": {
      "needs_background": "light"
     },
     "output_type": "display_data"
    },
    {
     "data": {
      "image/png": "[encoded data removed]",
      "text/plain": [
       "<Figure size 432x288 with 1 Axes>"
      ]
     },
     "metadata": {
      "needs_background": "light"
     },
     "output_type": "display_data"
    },
    {
     "data": {
      "image/png": "[encoded data removed]",
      "text/plain": [
       "<Figure size 432x288 with 1 Axes>"
      ]
     },
     "metadata": {
      "needs_background": "light"
     },
     "output_type": "display_data"
    },
    {
     "data": {
      "image/png": "[encoded data removed]",
      "text/plain": [
       "<Figure size 432x288 with 1 Axes>"
      ]
     },
     "metadata": {
      "needs_background": "light"
     },
     "output_type": "display_data"
    },
    {
     "data": {
      "image/png": "[encoded data removed]",
      "text/plain": [
       "<Figure size 432x288 with 1 Axes>"
      ]
     },
     "metadata": {
      "needs_background": "light"
     },
     "output_type": "display_data"
    },
    {
     "data": {
      "image/png": "[encoded data removed]",
      "text/plain": [
       "<Figure size 432x288 with 1 Axes>"
      ]
     },
     "metadata": {
      "needs_background": "light"
     },
     "output_type": "display_data"
    },
    {
     "data": {
      "image/png": "[encoded data removed]",
      "text/plain": [
       "<Figure size 432x288 with 1 Axes>"
      ]
     },
     "metadata": {
      "needs_background": "light"
     },
     "output_type": "display_data"
    }
   ],
   "source": [
    "# Categorical Column Distribution by Count Variable\n",
    "for i in categoricalcols:\n",
    "    plt.figure(i)\n",
    "    sns.barplot(x = 'Count', y = i, data = df1);"
   ]
  },
  {
   "cell_type": "code",
   "execution_count": 86,
   "id": "e131cf12",
   "metadata": {
    "scrolled": false
   },
   "outputs": [
    {
     "data": {
      "image/png": "[encoded data removed]",
      "text/plain": [
       "<Figure size 432x288 with 1 Axes>"
      ]
     },
     "metadata": {
      "needs_background": "light"
     },
     "output_type": "display_data"
    },
    {
     "data": {
      "image/png": "[encoded data removed]",
      "text/plain": [
       "<Figure size 432x288 with 1 Axes>"
      ]
     },
     "metadata": {
      "needs_background": "light"
     },
     "output_type": "display_data"
    },
    {
     "data": {
      "image/png": "[encoded data removed]",
      "text/plain": [
       "<Figure size 432x288 with 1 Axes>"
      ]
     },
     "metadata": {
      "needs_background": "light"
     },
     "output_type": "display_data"
    },
    {
     "data": {
      "image/png": "[encoded data removed]",
      "text/plain": [
       "<Figure size 432x288 with 1 Axes>"
      ]
     },
     "metadata": {
      "needs_background": "light"
     },
     "output_type": "display_data"
    },
    {
     "data": {
      "image/png": "[encoded data removed]",
      "text/plain": [
       "<Figure size 432x288 with 1 Axes>"
      ]
     },
     "metadata": {
      "needs_background": "light"
     },
     "output_type": "display_data"
    },
    {
     "data": {
      "image/png": "[encoded data removed]",
      "text/plain": [
       "<Figure size 432x288 with 1 Axes>"
      ]
     },
     "metadata": {
      "needs_background": "light"
     },
     "output_type": "display_data"
    },
    {
     "data": {
      "image/png": "[encoded data removed]",
      "text/plain": [
       "<Figure size 432x288 with 1 Axes>"
      ]
     },
     "metadata": {
      "needs_background": "light"
     },
     "output_type": "display_data"
    },
    {
     "data": {
      "image/png": "[encoded data removed]",
      "text/plain": [
       "<Figure size 432x288 with 1 Axes>"
      ]
     },
     "metadata": {
      "needs_background": "light"
     },
     "output_type": "display_data"
    }
   ],
   "source": [
    "# Categorical Column Distribution by Net Value Variable\n",
    "for i in categoricalcols:\n",
    "    plt.figure(i)\n",
    "    sns.barplot(x = 'Net Value', y = i, data = df1);"
   ]
  },
  {
   "cell_type": "code",
   "execution_count": 87,
   "id": "e0ad10c2",
   "metadata": {
    "scrolled": false
   },
   "outputs": [
    {
     "data": {
      "image/png": "[encoded data removed]",
      "text/plain": [
       "<Figure size 432x288 with 1 Axes>"
      ]
     },
     "metadata": {
      "needs_background": "light"
     },
     "output_type": "display_data"
    },
    {
     "data": {
      "image/png": "[encoded data removed]",
      "text/plain": [
       "<Figure size 432x288 with 1 Axes>"
      ]
     },
     "metadata": {
      "needs_background": "light"
     },
     "output_type": "display_data"
    },
    {
     "data": {
      "image/png": "[encoded data removed]",
      "text/plain": [
       "<Figure size 432x288 with 1 Axes>"
      ]
     },
     "metadata": {
      "needs_background": "light"
     },
     "output_type": "display_data"
    },
    {
     "data": {
      "image/png": "[encoded data removed]",
      "text/plain": [
       "<Figure size 432x288 with 1 Axes>"
      ]
     },
     "metadata": {
      "needs_background": "light"
     },
     "output_type": "display_data"
    },
    {
     "data": {
      "image/png": "[encoded data removed]",
      "text/plain": [
       "<Figure size 432x288 with 1 Axes>"
      ]
     },
     "metadata": {
      "needs_background": "light"
     },
     "output_type": "display_data"
    },
    {
     "data": {
      "image/png": "[encoded data removed]",
      "text/plain": [
       "<Figure size 432x288 with 1 Axes>"
      ]
     },
     "metadata": {
      "needs_background": "light"
     },
     "output_type": "display_data"
    },
    {
     "data": {
      "image/png": "[encoded data removed]",
      "text/plain": [
       "<Figure size 432x288 with 1 Axes>"
      ]
     },
     "metadata": {
      "needs_background": "light"
     },
     "output_type": "display_data"
    },
    {
     "data": {
      "image/png": "[encoded data removed]",
      "text/plain": [
       "<Figure size 432x288 with 1 Axes>"
      ]
     },
     "metadata": {
      "needs_background": "light"
     },
     "output_type": "display_data"
    }
   ],
   "source": [
    "# Categorical Column Distribution by Share Quantity Variable\n",
    "for i in categoricalcols:\n",
    "    plt.figure(i)\n",
    "    sns.barplot(x = 'Share Quantity', y = i, data = df1);"
   ]
  },
  {
   "cell_type": "code",
   "execution_count": 121,
   "id": "6305b66b",
   "metadata": {},
   "outputs": [
    {
     "data": {
      "text/html": [
       "<div>\n",
       "<style scoped>\n",
       "    .dataframe tbody tr th:only-of-type {\n",
       "        vertical-align: middle;\n",
       "    }\n",
       "\n",
       "    .dataframe tbody tr th {\n",
       "        vertical-align: top;\n",
       "    }\n",
       "\n",
       "    .dataframe thead th {\n",
       "        text-align: right;\n",
       "    }\n",
       "</style>\n",
       "<table border=\"1\" class=\"dataframe\">\n",
       "  <thead>\n",
       "    <tr style=\"text-align: right;\">\n",
       "      <th></th>\n",
       "      <th>Transaction Type</th>\n",
       "      <th>Post Type</th>\n",
       "      <th>Cancel Indicator</th>\n",
       "      <th>MJR Industry</th>\n",
       "      <th>Flag Type</th>\n",
       "      <th>Broker Key</th>\n",
       "      <th>KPI Client Name</th>\n",
       "      <th>Client Fund Group</th>\n",
       "    </tr>\n",
       "  </thead>\n",
       "  <tbody>\n",
       "    <tr>\n",
       "      <th>0</th>\n",
       "      <td>0</td>\n",
       "      <td>3</td>\n",
       "      <td>1</td>\n",
       "      <td>3</td>\n",
       "      <td>0</td>\n",
       "      <td>15</td>\n",
       "      <td>1</td>\n",
       "      <td>1</td>\n",
       "    </tr>\n",
       "    <tr>\n",
       "      <th>1</th>\n",
       "      <td>0</td>\n",
       "      <td>2</td>\n",
       "      <td>0</td>\n",
       "      <td>0</td>\n",
       "      <td>0</td>\n",
       "      <td>8</td>\n",
       "      <td>4</td>\n",
       "      <td>3</td>\n",
       "    </tr>\n",
       "    <tr>\n",
       "      <th>2</th>\n",
       "      <td>0</td>\n",
       "      <td>1</td>\n",
       "      <td>0</td>\n",
       "      <td>2</td>\n",
       "      <td>0</td>\n",
       "      <td>6</td>\n",
       "      <td>4</td>\n",
       "      <td>5</td>\n",
       "    </tr>\n",
       "    <tr>\n",
       "      <th>3</th>\n",
       "      <td>1</td>\n",
       "      <td>3</td>\n",
       "      <td>0</td>\n",
       "      <td>2</td>\n",
       "      <td>0</td>\n",
       "      <td>14</td>\n",
       "      <td>7</td>\n",
       "      <td>3</td>\n",
       "    </tr>\n",
       "    <tr>\n",
       "      <th>4</th>\n",
       "      <td>1</td>\n",
       "      <td>0</td>\n",
       "      <td>0</td>\n",
       "      <td>1</td>\n",
       "      <td>0</td>\n",
       "      <td>1</td>\n",
       "      <td>2</td>\n",
       "      <td>3</td>\n",
       "    </tr>\n",
       "  </tbody>\n",
       "</table>\n",
       "</div>"
      ],
      "text/plain": [
       "   Transaction Type  Post Type  Cancel Indicator  MJR Industry  Flag Type  \\\n",
       "0                 0          3                 1             3          0   \n",
       "1                 0          2                 0             0          0   \n",
       "2                 0          1                 0             2          0   \n",
       "3                 1          3                 0             2          0   \n",
       "4                 1          0                 0             1          0   \n",
       "\n",
       "   Broker Key  KPI Client Name  Client Fund Group  \n",
       "0          15                1                  1  \n",
       "1           8                4                  3  \n",
       "2           6                4                  5  \n",
       "3          14                7                  3  \n",
       "4           1                2                  3  "
      ]
     },
     "execution_count": 121,
     "metadata": {},
     "output_type": "execute_result"
    }
   ],
   "source": [
    "# Encoding Values in the Categorical Columns\n",
    "cats = df1[categoricalcols].apply(LabelEncoder().fit_transform)\n",
    "cats.head()"
   ]
  },
  {
   "cell_type": "code",
   "execution_count": 122,
   "id": "e096d4e8",
   "metadata": {},
   "outputs": [
    {
     "data": {
      "text/html": [
       "<div>\n",
       "<style scoped>\n",
       "    .dataframe tbody tr th:only-of-type {\n",
       "        vertical-align: middle;\n",
       "    }\n",
       "\n",
       "    .dataframe tbody tr th {\n",
       "        vertical-align: top;\n",
       "    }\n",
       "\n",
       "    .dataframe thead th {\n",
       "        text-align: right;\n",
       "    }\n",
       "</style>\n",
       "<table border=\"1\" class=\"dataframe\">\n",
       "  <thead>\n",
       "    <tr style=\"text-align: right;\">\n",
       "      <th></th>\n",
       "      <th>Transaction Type</th>\n",
       "      <th>Post Type</th>\n",
       "      <th>Cancel Indicator</th>\n",
       "      <th>MJR Industry</th>\n",
       "      <th>Flag Type</th>\n",
       "      <th>Broker Key</th>\n",
       "      <th>KPI Client Name</th>\n",
       "      <th>Client Fund Group</th>\n",
       "      <th>Share Quantity</th>\n",
       "      <th>Net Value</th>\n",
       "      <th>Count</th>\n",
       "    </tr>\n",
       "  </thead>\n",
       "  <tbody>\n",
       "    <tr>\n",
       "      <th>0</th>\n",
       "      <td>0</td>\n",
       "      <td>3</td>\n",
       "      <td>1</td>\n",
       "      <td>3</td>\n",
       "      <td>0</td>\n",
       "      <td>15</td>\n",
       "      <td>1</td>\n",
       "      <td>1</td>\n",
       "      <td>18</td>\n",
       "      <td>6232.39</td>\n",
       "      <td>4</td>\n",
       "    </tr>\n",
       "    <tr>\n",
       "      <th>1</th>\n",
       "      <td>0</td>\n",
       "      <td>2</td>\n",
       "      <td>0</td>\n",
       "      <td>0</td>\n",
       "      <td>0</td>\n",
       "      <td>8</td>\n",
       "      <td>4</td>\n",
       "      <td>3</td>\n",
       "      <td>13</td>\n",
       "      <td>5513.07</td>\n",
       "      <td>5</td>\n",
       "    </tr>\n",
       "    <tr>\n",
       "      <th>2</th>\n",
       "      <td>0</td>\n",
       "      <td>1</td>\n",
       "      <td>0</td>\n",
       "      <td>2</td>\n",
       "      <td>0</td>\n",
       "      <td>6</td>\n",
       "      <td>4</td>\n",
       "      <td>5</td>\n",
       "      <td>38</td>\n",
       "      <td>8366.11</td>\n",
       "      <td>1</td>\n",
       "    </tr>\n",
       "    <tr>\n",
       "      <th>3</th>\n",
       "      <td>1</td>\n",
       "      <td>3</td>\n",
       "      <td>0</td>\n",
       "      <td>2</td>\n",
       "      <td>0</td>\n",
       "      <td>14</td>\n",
       "      <td>7</td>\n",
       "      <td>3</td>\n",
       "      <td>2</td>\n",
       "      <td>5103.97</td>\n",
       "      <td>2</td>\n",
       "    </tr>\n",
       "    <tr>\n",
       "      <th>4</th>\n",
       "      <td>1</td>\n",
       "      <td>0</td>\n",
       "      <td>0</td>\n",
       "      <td>1</td>\n",
       "      <td>0</td>\n",
       "      <td>1</td>\n",
       "      <td>2</td>\n",
       "      <td>3</td>\n",
       "      <td>3</td>\n",
       "      <td>8775.69</td>\n",
       "      <td>5</td>\n",
       "    </tr>\n",
       "  </tbody>\n",
       "</table>\n",
       "</div>"
      ],
      "text/plain": [
       "   Transaction Type  Post Type  Cancel Indicator  MJR Industry  Flag Type  \\\n",
       "0                 0          3                 1             3          0   \n",
       "1                 0          2                 0             0          0   \n",
       "2                 0          1                 0             2          0   \n",
       "3                 1          3                 0             2          0   \n",
       "4                 1          0                 0             1          0   \n",
       "\n",
       "   Broker Key  KPI Client Name  Client Fund Group  Share Quantity  Net Value  \\\n",
       "0          15                1                  1              18    6232.39   \n",
       "1           8                4                  3              13    5513.07   \n",
       "2           6                4                  5              38    8366.11   \n",
       "3          14                7                  3               2    5103.97   \n",
       "4           1                2                  3               3    8775.69   \n",
       "\n",
       "   Count  \n",
       "0      4  \n",
       "1      5  \n",
       "2      1  \n",
       "3      2  \n",
       "4      5  "
      ]
     },
     "execution_count": 122,
     "metadata": {},
     "output_type": "execute_result"
    }
   ],
   "source": [
    "finaldf = cats.join(df1[numericalcols])\n",
    "finaldf.head()"
   ]
  },
  {
   "cell_type": "code",
   "execution_count": 123,
   "id": "8984b6ca",
   "metadata": {},
   "outputs": [
    {
     "data": {
      "text/plain": [
       "(98, 11)"
      ]
     },
     "execution_count": 123,
     "metadata": {},
     "output_type": "execute_result"
    }
   ],
   "source": [
    "finaldf.shape"
   ]
  },
  {
   "cell_type": "markdown",
   "id": "b9a0e4b0",
   "metadata": {},
   "source": [
    "# Correlation Between Variables"
   ]
  },
  {
   "cell_type": "code",
   "execution_count": 118,
   "id": "ab691b25",
   "metadata": {},
   "outputs": [
    {
     "data": {
      "image/png": "[encoded data removed]",
      "text/plain": [
       "<Figure size 1440x720 with 2 Axes>"
      ]
     },
     "metadata": {
      "needs_background": "light"
     },
     "output_type": "display_data"
    }
   ],
   "source": [
    "plt.figure(figsize = (20, 10))\n",
    "sns.heatmap(finaldf.corr(), annot = True);"
   ]
  },
  {
   "cell_type": "markdown",
   "id": "e51ae279",
   "metadata": {},
   "source": [
    "# Standardization"
   ]
  },
  {
   "cell_type": "code",
   "execution_count": 124,
   "id": "1ae9cdb7",
   "metadata": {},
   "outputs": [
    {
     "data": {
      "text/html": [
       "<div>\n",
       "<style scoped>\n",
       "    .dataframe tbody tr th:only-of-type {\n",
       "        vertical-align: middle;\n",
       "    }\n",
       "\n",
       "    .dataframe tbody tr th {\n",
       "        vertical-align: top;\n",
       "    }\n",
       "\n",
       "    .dataframe thead th {\n",
       "        text-align: right;\n",
       "    }\n",
       "</style>\n",
       "<table border=\"1\" class=\"dataframe\">\n",
       "  <thead>\n",
       "    <tr style=\"text-align: right;\">\n",
       "      <th></th>\n",
       "      <th>Transaction Type</th>\n",
       "      <th>Post Type</th>\n",
       "      <th>MJR Industry</th>\n",
       "      <th>Flag Type</th>\n",
       "      <th>Broker Key</th>\n",
       "      <th>KPI Client Name</th>\n",
       "      <th>Client Fund Group</th>\n",
       "      <th>Share Quantity</th>\n",
       "      <th>Net Value</th>\n",
       "      <th>Count</th>\n",
       "    </tr>\n",
       "  </thead>\n",
       "  <tbody>\n",
       "    <tr>\n",
       "      <th>0</th>\n",
       "      <td>0</td>\n",
       "      <td>3</td>\n",
       "      <td>3</td>\n",
       "      <td>0</td>\n",
       "      <td>15</td>\n",
       "      <td>1</td>\n",
       "      <td>1</td>\n",
       "      <td>18</td>\n",
       "      <td>6232.39</td>\n",
       "      <td>4</td>\n",
       "    </tr>\n",
       "    <tr>\n",
       "      <th>1</th>\n",
       "      <td>0</td>\n",
       "      <td>2</td>\n",
       "      <td>0</td>\n",
       "      <td>0</td>\n",
       "      <td>8</td>\n",
       "      <td>4</td>\n",
       "      <td>3</td>\n",
       "      <td>13</td>\n",
       "      <td>5513.07</td>\n",
       "      <td>5</td>\n",
       "    </tr>\n",
       "    <tr>\n",
       "      <th>2</th>\n",
       "      <td>0</td>\n",
       "      <td>1</td>\n",
       "      <td>2</td>\n",
       "      <td>0</td>\n",
       "      <td>6</td>\n",
       "      <td>4</td>\n",
       "      <td>5</td>\n",
       "      <td>38</td>\n",
       "      <td>8366.11</td>\n",
       "      <td>1</td>\n",
       "    </tr>\n",
       "    <tr>\n",
       "      <th>3</th>\n",
       "      <td>1</td>\n",
       "      <td>3</td>\n",
       "      <td>2</td>\n",
       "      <td>0</td>\n",
       "      <td>14</td>\n",
       "      <td>7</td>\n",
       "      <td>3</td>\n",
       "      <td>2</td>\n",
       "      <td>5103.97</td>\n",
       "      <td>2</td>\n",
       "    </tr>\n",
       "    <tr>\n",
       "      <th>4</th>\n",
       "      <td>1</td>\n",
       "      <td>0</td>\n",
       "      <td>1</td>\n",
       "      <td>0</td>\n",
       "      <td>1</td>\n",
       "      <td>2</td>\n",
       "      <td>3</td>\n",
       "      <td>3</td>\n",
       "      <td>8775.69</td>\n",
       "      <td>5</td>\n",
       "    </tr>\n",
       "  </tbody>\n",
       "</table>\n",
       "</div>"
      ],
      "text/plain": [
       "   Transaction Type  Post Type  MJR Industry  Flag Type  Broker Key  \\\n",
       "0                 0          3             3          0          15   \n",
       "1                 0          2             0          0           8   \n",
       "2                 0          1             2          0           6   \n",
       "3                 1          3             2          0          14   \n",
       "4                 1          0             1          0           1   \n",
       "\n",
       "   KPI Client Name  Client Fund Group  Share Quantity  Net Value  Count  \n",
       "0                1                  1              18    6232.39      4  \n",
       "1                4                  3              13    5513.07      5  \n",
       "2                4                  5              38    8366.11      1  \n",
       "3                7                  3               2    5103.97      2  \n",
       "4                2                  3               3    8775.69      5  "
      ]
     },
     "execution_count": 124,
     "metadata": {},
     "output_type": "execute_result"
    }
   ],
   "source": [
    "stddf = finaldf.drop(columns = 'Cancel Indicator')\n",
    "stddf.head()"
   ]
  },
  {
   "cell_type": "code",
   "execution_count": 125,
   "id": "637e9db3",
   "metadata": {},
   "outputs": [
    {
     "data": {
      "text/html": [
       "<div>\n",
       "<style scoped>\n",
       "    .dataframe tbody tr th:only-of-type {\n",
       "        vertical-align: middle;\n",
       "    }\n",
       "\n",
       "    .dataframe tbody tr th {\n",
       "        vertical-align: top;\n",
       "    }\n",
       "\n",
       "    .dataframe thead th {\n",
       "        text-align: right;\n",
       "    }\n",
       "</style>\n",
       "<table border=\"1\" class=\"dataframe\">\n",
       "  <thead>\n",
       "    <tr style=\"text-align: right;\">\n",
       "      <th></th>\n",
       "      <th>Transaction Type</th>\n",
       "      <th>Post Type</th>\n",
       "      <th>MJR Industry</th>\n",
       "      <th>Flag Type</th>\n",
       "      <th>Broker Key</th>\n",
       "      <th>KPI Client Name</th>\n",
       "      <th>Client Fund Group</th>\n",
       "      <th>Share Quantity</th>\n",
       "      <th>Net Value</th>\n",
       "      <th>Count</th>\n",
       "    </tr>\n",
       "  </thead>\n",
       "  <tbody>\n",
       "    <tr>\n",
       "      <th>0</th>\n",
       "      <td>-1.063219</td>\n",
       "      <td>1.480494</td>\n",
       "      <td>1.280393</td>\n",
       "      <td>-0.373544</td>\n",
       "      <td>1.814111</td>\n",
       "      <td>-1.283637</td>\n",
       "      <td>-1.210188</td>\n",
       "      <td>-0.184238</td>\n",
       "      <td>-0.336826</td>\n",
       "      <td>0.731059</td>\n",
       "    </tr>\n",
       "    <tr>\n",
       "      <th>1</th>\n",
       "      <td>-1.063219</td>\n",
       "      <td>0.544440</td>\n",
       "      <td>-1.280393</td>\n",
       "      <td>-0.373544</td>\n",
       "      <td>0.191581</td>\n",
       "      <td>0.184804</td>\n",
       "      <td>0.168863</td>\n",
       "      <td>-0.616184</td>\n",
       "      <td>-0.875329</td>\n",
       "      <td>1.477348</td>\n",
       "    </tr>\n",
       "    <tr>\n",
       "      <th>2</th>\n",
       "      <td>-1.063219</td>\n",
       "      <td>-0.391615</td>\n",
       "      <td>0.426798</td>\n",
       "      <td>-0.373544</td>\n",
       "      <td>-0.271998</td>\n",
       "      <td>0.184804</td>\n",
       "      <td>1.547915</td>\n",
       "      <td>1.543546</td>\n",
       "      <td>1.260536</td>\n",
       "      <td>-1.507808</td>\n",
       "    </tr>\n",
       "    <tr>\n",
       "      <th>3</th>\n",
       "      <td>0.940540</td>\n",
       "      <td>1.480494</td>\n",
       "      <td>0.426798</td>\n",
       "      <td>-0.373544</td>\n",
       "      <td>1.582321</td>\n",
       "      <td>1.653244</td>\n",
       "      <td>0.168863</td>\n",
       "      <td>-1.566466</td>\n",
       "      <td>-1.181592</td>\n",
       "      <td>-0.761519</td>\n",
       "    </tr>\n",
       "    <tr>\n",
       "      <th>4</th>\n",
       "      <td>0.940540</td>\n",
       "      <td>-1.327669</td>\n",
       "      <td>-0.426798</td>\n",
       "      <td>-0.373544</td>\n",
       "      <td>-1.430948</td>\n",
       "      <td>-0.794157</td>\n",
       "      <td>0.168863</td>\n",
       "      <td>-1.480077</td>\n",
       "      <td>1.567159</td>\n",
       "      <td>1.477348</td>\n",
       "    </tr>\n",
       "  </tbody>\n",
       "</table>\n",
       "</div>"
      ],
      "text/plain": [
       "   Transaction Type  Post Type  MJR Industry  Flag Type  Broker Key  \\\n",
       "0         -1.063219   1.480494      1.280393  -0.373544    1.814111   \n",
       "1         -1.063219   0.544440     -1.280393  -0.373544    0.191581   \n",
       "2         -1.063219  -0.391615      0.426798  -0.373544   -0.271998   \n",
       "3          0.940540   1.480494      0.426798  -0.373544    1.582321   \n",
       "4          0.940540  -1.327669     -0.426798  -0.373544   -1.430948   \n",
       "\n",
       "   KPI Client Name  Client Fund Group  Share Quantity  Net Value     Count  \n",
       "0        -1.283637          -1.210188       -0.184238  -0.336826  0.731059  \n",
       "1         0.184804           0.168863       -0.616184  -0.875329  1.477348  \n",
       "2         0.184804           1.547915        1.543546   1.260536 -1.507808  \n",
       "3         1.653244           0.168863       -1.566466  -1.181592 -0.761519  \n",
       "4        -0.794157           0.168863       -1.480077   1.567159  1.477348  "
      ]
     },
     "execution_count": 125,
     "metadata": {},
     "output_type": "execute_result"
    }
   ],
   "source": [
    "finaldf = pd.DataFrame(StandardScaler().fit_transform(stddf), columns = stddf.columns)"
   ]
  },
  {
   "cell_type": "code",
   "execution_count": 128,
   "id": "81c1cc76",
   "metadata": {},
   "outputs": [
    {
     "data": {
      "text/html": [
       "<div>\n",
       "<style scoped>\n",
       "    .dataframe tbody tr th:only-of-type {\n",
       "        vertical-align: middle;\n",
       "    }\n",
       "\n",
       "    .dataframe tbody tr th {\n",
       "        vertical-align: top;\n",
       "    }\n",
       "\n",
       "    .dataframe thead th {\n",
       "        text-align: right;\n",
       "    }\n",
       "</style>\n",
       "<table border=\"1\" class=\"dataframe\">\n",
       "  <thead>\n",
       "    <tr style=\"text-align: right;\">\n",
       "      <th></th>\n",
       "      <th>Transaction Type</th>\n",
       "      <th>Post Type</th>\n",
       "      <th>MJR Industry</th>\n",
       "      <th>Flag Type</th>\n",
       "      <th>Broker Key</th>\n",
       "      <th>KPI Client Name</th>\n",
       "      <th>Client Fund Group</th>\n",
       "      <th>Share Quantity</th>\n",
       "      <th>Net Value</th>\n",
       "      <th>Count</th>\n",
       "      <th>Churn</th>\n",
       "    </tr>\n",
       "  </thead>\n",
       "  <tbody>\n",
       "    <tr>\n",
       "      <th>0</th>\n",
       "      <td>-1.063219</td>\n",
       "      <td>1.480494</td>\n",
       "      <td>1.280393</td>\n",
       "      <td>-0.373544</td>\n",
       "      <td>1.814111</td>\n",
       "      <td>-1.283637</td>\n",
       "      <td>-1.210188</td>\n",
       "      <td>-0.184238</td>\n",
       "      <td>-0.336826</td>\n",
       "      <td>0.731059</td>\n",
       "      <td>1</td>\n",
       "    </tr>\n",
       "    <tr>\n",
       "      <th>1</th>\n",
       "      <td>-1.063219</td>\n",
       "      <td>0.544440</td>\n",
       "      <td>-1.280393</td>\n",
       "      <td>-0.373544</td>\n",
       "      <td>0.191581</td>\n",
       "      <td>0.184804</td>\n",
       "      <td>0.168863</td>\n",
       "      <td>-0.616184</td>\n",
       "      <td>-0.875329</td>\n",
       "      <td>1.477348</td>\n",
       "      <td>0</td>\n",
       "    </tr>\n",
       "  </tbody>\n",
       "</table>\n",
       "</div>"
      ],
      "text/plain": [
       "   Transaction Type  Post Type  MJR Industry  Flag Type  Broker Key  \\\n",
       "0         -1.063219   1.480494      1.280393  -0.373544    1.814111   \n",
       "1         -1.063219   0.544440     -1.280393  -0.373544    0.191581   \n",
       "\n",
       "   KPI Client Name  Client Fund Group  Share Quantity  Net Value     Count  \\\n",
       "0        -1.283637          -1.210188       -0.184238  -0.336826  0.731059   \n",
       "1         0.184804           0.168863       -0.616184  -0.875329  1.477348   \n",
       "\n",
       "   Churn  \n",
       "0      1  \n",
       "1      0  "
      ]
     },
     "execution_count": 128,
     "metadata": {},
     "output_type": "execute_result"
    }
   ],
   "source": [
    "finaldf['Churn'] = cats['Cancel Indicator']\n",
    "finaldf.head(2)"
   ]
  },
  {
   "cell_type": "markdown",
   "id": "a5695504",
   "metadata": {},
   "source": [
    "# Train Test Split"
   ]
  },
  {
   "cell_type": "code",
   "execution_count": 131,
   "id": "0cc583fb",
   "metadata": {},
   "outputs": [],
   "source": [
    "x = finaldf.drop(columns = 'Churn')\n",
    "y = finaldf.iloc[:, -1]"
   ]
  },
  {
   "cell_type": "code",
   "execution_count": 132,
   "id": "aa26c9db",
   "metadata": {},
   "outputs": [
    {
     "data": {
      "text/html": [
       "<div>\n",
       "<style scoped>\n",
       "    .dataframe tbody tr th:only-of-type {\n",
       "        vertical-align: middle;\n",
       "    }\n",
       "\n",
       "    .dataframe tbody tr th {\n",
       "        vertical-align: top;\n",
       "    }\n",
       "\n",
       "    .dataframe thead th {\n",
       "        text-align: right;\n",
       "    }\n",
       "</style>\n",
       "<table border=\"1\" class=\"dataframe\">\n",
       "  <thead>\n",
       "    <tr style=\"text-align: right;\">\n",
       "      <th></th>\n",
       "      <th>Transaction Type</th>\n",
       "      <th>Post Type</th>\n",
       "      <th>MJR Industry</th>\n",
       "      <th>Flag Type</th>\n",
       "      <th>Broker Key</th>\n",
       "      <th>KPI Client Name</th>\n",
       "      <th>Client Fund Group</th>\n",
       "      <th>Share Quantity</th>\n",
       "      <th>Net Value</th>\n",
       "      <th>Count</th>\n",
       "    </tr>\n",
       "  </thead>\n",
       "  <tbody>\n",
       "    <tr>\n",
       "      <th>0</th>\n",
       "      <td>-1.063219</td>\n",
       "      <td>1.480494</td>\n",
       "      <td>1.280393</td>\n",
       "      <td>-0.373544</td>\n",
       "      <td>1.814111</td>\n",
       "      <td>-1.283637</td>\n",
       "      <td>-1.210188</td>\n",
       "      <td>-0.184238</td>\n",
       "      <td>-0.336826</td>\n",
       "      <td>0.731059</td>\n",
       "    </tr>\n",
       "    <tr>\n",
       "      <th>1</th>\n",
       "      <td>-1.063219</td>\n",
       "      <td>0.544440</td>\n",
       "      <td>-1.280393</td>\n",
       "      <td>-0.373544</td>\n",
       "      <td>0.191581</td>\n",
       "      <td>0.184804</td>\n",
       "      <td>0.168863</td>\n",
       "      <td>-0.616184</td>\n",
       "      <td>-0.875329</td>\n",
       "      <td>1.477348</td>\n",
       "    </tr>\n",
       "    <tr>\n",
       "      <th>2</th>\n",
       "      <td>-1.063219</td>\n",
       "      <td>-0.391615</td>\n",
       "      <td>0.426798</td>\n",
       "      <td>-0.373544</td>\n",
       "      <td>-0.271998</td>\n",
       "      <td>0.184804</td>\n",
       "      <td>1.547915</td>\n",
       "      <td>1.543546</td>\n",
       "      <td>1.260536</td>\n",
       "      <td>-1.507808</td>\n",
       "    </tr>\n",
       "    <tr>\n",
       "      <th>3</th>\n",
       "      <td>0.940540</td>\n",
       "      <td>1.480494</td>\n",
       "      <td>0.426798</td>\n",
       "      <td>-0.373544</td>\n",
       "      <td>1.582321</td>\n",
       "      <td>1.653244</td>\n",
       "      <td>0.168863</td>\n",
       "      <td>-1.566466</td>\n",
       "      <td>-1.181592</td>\n",
       "      <td>-0.761519</td>\n",
       "    </tr>\n",
       "    <tr>\n",
       "      <th>4</th>\n",
       "      <td>0.940540</td>\n",
       "      <td>-1.327669</td>\n",
       "      <td>-0.426798</td>\n",
       "      <td>-0.373544</td>\n",
       "      <td>-1.430948</td>\n",
       "      <td>-0.794157</td>\n",
       "      <td>0.168863</td>\n",
       "      <td>-1.480077</td>\n",
       "      <td>1.567159</td>\n",
       "      <td>1.477348</td>\n",
       "    </tr>\n",
       "  </tbody>\n",
       "</table>\n",
       "</div>"
      ],
      "text/plain": [
       "   Transaction Type  Post Type  MJR Industry  Flag Type  Broker Key  \\\n",
       "0         -1.063219   1.480494      1.280393  -0.373544    1.814111   \n",
       "1         -1.063219   0.544440     -1.280393  -0.373544    0.191581   \n",
       "2         -1.063219  -0.391615      0.426798  -0.373544   -0.271998   \n",
       "3          0.940540   1.480494      0.426798  -0.373544    1.582321   \n",
       "4          0.940540  -1.327669     -0.426798  -0.373544   -1.430948   \n",
       "\n",
       "   KPI Client Name  Client Fund Group  Share Quantity  Net Value     Count  \n",
       "0        -1.283637          -1.210188       -0.184238  -0.336826  0.731059  \n",
       "1         0.184804           0.168863       -0.616184  -0.875329  1.477348  \n",
       "2         0.184804           1.547915        1.543546   1.260536 -1.507808  \n",
       "3         1.653244           0.168863       -1.566466  -1.181592 -0.761519  \n",
       "4        -0.794157           0.168863       -1.480077   1.567159  1.477348  "
      ]
     },
     "execution_count": 132,
     "metadata": {},
     "output_type": "execute_result"
    }
   ],
   "source": [
    "x.head()"
   ]
  },
  {
   "cell_type": "code",
   "execution_count": 133,
   "id": "b38dc2b7",
   "metadata": {},
   "outputs": [
    {
     "data": {
      "text/plain": [
       "0    1\n",
       "1    0\n",
       "2    0\n",
       "3    0\n",
       "4    0\n",
       "Name: Churn, dtype: int32"
      ]
     },
     "execution_count": 133,
     "metadata": {},
     "output_type": "execute_result"
    }
   ],
   "source": [
    "y.head()"
   ]
  },
  {
   "cell_type": "code",
   "execution_count": 135,
   "id": "c9355949",
   "metadata": {},
   "outputs": [
    {
     "name": "stdout",
     "output_type": "stream",
     "text": [
      "    Transaction Type  Post Type  MJR Industry  Flag Type  Broker Key  \\\n",
      "66           0.94054  -0.391615     -1.280393  -0.373544   -0.735578   \n",
      "55           0.94054  -1.327669      1.280393   2.677063   -0.967368   \n",
      "\n",
      "    KPI Client Name  Client Fund Group  Share Quantity  Net Value     Count  \n",
      "66        -1.773117           1.547915       -1.480077  -0.629277 -0.015230  \n",
      "55        -0.794157          -1.210188       -1.220909  -0.270857  0.731059  \n",
      "(78, 10)\n",
      "    Transaction Type  Post Type  MJR Industry  Flag Type  Broker Key  \\\n",
      "91          0.940540    0.54444      0.426798  -0.373544    0.655161   \n",
      "41         -1.063219    0.54444      1.280393  -0.373544    0.886951   \n",
      "\n",
      "    KPI Client Name  Client Fund Group  Share Quantity  Net Value     Count  \n",
      "91        -0.304676           0.168863        0.247708   0.001764  1.477348  \n",
      "41        -0.304676           0.858389        1.543546   1.318922 -0.761519  \n",
      "(20, 10)\n",
      "66    1\n",
      "55    0\n",
      "Name: Churn, dtype: int32\n",
      "(78,)\n",
      "91    0\n",
      "41    0\n",
      "Name: Churn, dtype: int32\n",
      "(20,)\n"
     ]
    }
   ],
   "source": [
    "x_train, x_test, y_train, y_test = train_test_split(x, y, test_size = 0.2, random_state = 101)\n",
    "for i in [x_train, x_test, y_train, y_test]:\n",
    "    print(i.head(2))\n",
    "    print(i.shape)"
   ]
  },
  {
   "cell_type": "markdown",
   "id": "9dba395c",
   "metadata": {},
   "source": [
    "# Building Models without handling class imbalance"
   ]
  },
  {
   "cell_type": "markdown",
   "id": "2fff7d28",
   "metadata": {},
   "source": [
    "### Logisitic Regression"
   ]
  },
  {
   "cell_type": "code",
   "execution_count": 136,
   "id": "e7e03c4a",
   "metadata": {},
   "outputs": [],
   "source": [
    "model = LogisticRegression(max_iter = 1000).fit(x_train, y_train)"
   ]
  },
  {
   "cell_type": "code",
   "execution_count": 138,
   "id": "3cda9892",
   "metadata": {},
   "outputs": [
    {
     "data": {
      "text/html": [
       "<div>\n",
       "<style scoped>\n",
       "    .dataframe tbody tr th:only-of-type {\n",
       "        vertical-align: middle;\n",
       "    }\n",
       "\n",
       "    .dataframe tbody tr th {\n",
       "        vertical-align: top;\n",
       "    }\n",
       "\n",
       "    .dataframe thead th {\n",
       "        text-align: right;\n",
       "    }\n",
       "</style>\n",
       "<table border=\"1\" class=\"dataframe\">\n",
       "  <thead>\n",
       "    <tr style=\"text-align: right;\">\n",
       "      <th></th>\n",
       "      <th>Actual Class</th>\n",
       "      <th>Predicted Class</th>\n",
       "    </tr>\n",
       "  </thead>\n",
       "  <tbody>\n",
       "    <tr>\n",
       "      <th>91</th>\n",
       "      <td>0</td>\n",
       "      <td>0</td>\n",
       "    </tr>\n",
       "    <tr>\n",
       "      <th>41</th>\n",
       "      <td>0</td>\n",
       "      <td>0</td>\n",
       "    </tr>\n",
       "    <tr>\n",
       "      <th>25</th>\n",
       "      <td>0</td>\n",
       "      <td>0</td>\n",
       "    </tr>\n",
       "    <tr>\n",
       "      <th>1</th>\n",
       "      <td>0</td>\n",
       "      <td>0</td>\n",
       "    </tr>\n",
       "    <tr>\n",
       "      <th>6</th>\n",
       "      <td>0</td>\n",
       "      <td>0</td>\n",
       "    </tr>\n",
       "  </tbody>\n",
       "</table>\n",
       "</div>"
      ],
      "text/plain": [
       "    Actual Class  Predicted Class\n",
       "91             0                0\n",
       "41             0                0\n",
       "25             0                0\n",
       "1              0                0\n",
       "6              0                0"
      ]
     },
     "execution_count": 138,
     "metadata": {},
     "output_type": "execute_result"
    }
   ],
   "source": [
    "y_hat = model.predict(x_test)\n",
    "# Comparing Actual and Predicted Data\n",
    "comp = pd.DataFrame({\"Actual Class\" : y_test, \"Predicted Class\": y_hat})\n",
    "comp.head()"
   ]
  },
  {
   "cell_type": "code",
   "execution_count": 139,
   "id": "dda5e5f2",
   "metadata": {},
   "outputs": [
    {
     "data": {
      "image/png": "[encoded data removed]",
      "text/plain": [
       "<Figure size 432x288 with 2 Axes>"
      ]
     },
     "metadata": {
      "needs_background": "light"
     },
     "output_type": "display_data"
    }
   ],
   "source": [
    "sns.heatmap(confusion_matrix(y_test, y_hat), annot = True);"
   ]
  },
  {
   "cell_type": "code",
   "execution_count": 141,
   "id": "3bccd98b",
   "metadata": {},
   "outputs": [
    {
     "name": "stdout",
     "output_type": "stream",
     "text": [
      "Error Metrics\n",
      "\n",
      "               precision    recall  f1-score   support\n",
      "\n",
      "           0       0.90      1.00      0.95        18\n",
      "           1       0.00      0.00      0.00         2\n",
      "\n",
      "    accuracy                           0.90        20\n",
      "   macro avg       0.45      0.50      0.47        20\n",
      "weighted avg       0.81      0.90      0.85        20\n",
      "\n"
     ]
    }
   ],
   "source": [
    "# Classification Error Metrics\n",
    "print('Error Metrics\\n\\n', classification_report(y_test, y_hat, zero_division = 0))"
   ]
  },
  {
   "cell_type": "code",
   "execution_count": 143,
   "id": "d39c9143",
   "metadata": {},
   "outputs": [
    {
     "data": {
      "image/png": "[encoded data removed]",
      "text/plain": [
       "<Figure size 1080x360 with 1 Axes>"
      ]
     },
     "metadata": {
      "needs_background": "light"
     },
     "output_type": "display_data"
    }
   ],
   "source": [
    "logit_auc_score = roc_auc_score(y_test, y_hat) # Generating AUC Score\n",
    "fpr, tpr, thresholds = roc_curve(y_test, model.predict_proba(x_test)[:, 1]) # Generating TPR, FPR and Thresholds Score\n",
    "plt.figure(figsize = (15, 5))\n",
    "plt.title(\"Receiver Operating Characteristics Curve\")\n",
    "plt.plot(fpr, tpr, 'g', label = \"Log Reg (AUC = %0.2f)\" % logit_auc_score) # Plotting ROC curve with AUC score\n",
    "plt.plot([0, 1], [0, 1],  'r--')\n",
    "plt.xlim([0.0, 1.0])\n",
    "plt.ylim([0.0, 1.0])\n",
    "plt.xlabel(\"False Positivity Rate\")\n",
    "plt.ylabel(\"True Positivity Rate\")\n",
    "plt.legend(loc = \"lower right\");"
   ]
  },
  {
   "cell_type": "markdown",
   "id": "cfa04485",
   "metadata": {},
   "source": [
    "### Naive Bayes"
   ]
  },
  {
   "cell_type": "code",
   "execution_count": 155,
   "id": "f1908c57",
   "metadata": {},
   "outputs": [],
   "source": [
    "model = GaussianNB().fit(x_train, y_train)"
   ]
  },
  {
   "cell_type": "code",
   "execution_count": 156,
   "id": "b54f01c9",
   "metadata": {},
   "outputs": [
    {
     "data": {
      "text/html": [
       "<div>\n",
       "<style scoped>\n",
       "    .dataframe tbody tr th:only-of-type {\n",
       "        vertical-align: middle;\n",
       "    }\n",
       "\n",
       "    .dataframe tbody tr th {\n",
       "        vertical-align: top;\n",
       "    }\n",
       "\n",
       "    .dataframe thead th {\n",
       "        text-align: right;\n",
       "    }\n",
       "</style>\n",
       "<table border=\"1\" class=\"dataframe\">\n",
       "  <thead>\n",
       "    <tr style=\"text-align: right;\">\n",
       "      <th></th>\n",
       "      <th>Actual Class</th>\n",
       "      <th>Predicted Class</th>\n",
       "    </tr>\n",
       "  </thead>\n",
       "  <tbody>\n",
       "    <tr>\n",
       "      <th>91</th>\n",
       "      <td>0</td>\n",
       "      <td>0</td>\n",
       "    </tr>\n",
       "    <tr>\n",
       "      <th>41</th>\n",
       "      <td>0</td>\n",
       "      <td>0</td>\n",
       "    </tr>\n",
       "    <tr>\n",
       "      <th>25</th>\n",
       "      <td>0</td>\n",
       "      <td>0</td>\n",
       "    </tr>\n",
       "    <tr>\n",
       "      <th>1</th>\n",
       "      <td>0</td>\n",
       "      <td>0</td>\n",
       "    </tr>\n",
       "    <tr>\n",
       "      <th>6</th>\n",
       "      <td>0</td>\n",
       "      <td>0</td>\n",
       "    </tr>\n",
       "  </tbody>\n",
       "</table>\n",
       "</div>"
      ],
      "text/plain": [
       "    Actual Class  Predicted Class\n",
       "91             0                0\n",
       "41             0                0\n",
       "25             0                0\n",
       "1              0                0\n",
       "6              0                0"
      ]
     },
     "execution_count": 156,
     "metadata": {},
     "output_type": "execute_result"
    }
   ],
   "source": [
    "y_hat = model.predict(x_test)\n",
    "# Comparing Actual and Predicted Data\n",
    "comp = pd.DataFrame({\"Actual Class\" : y_test, \"Predicted Class\": y_hat})\n",
    "comp.head()"
   ]
  },
  {
   "cell_type": "code",
   "execution_count": 157,
   "id": "8bb23161",
   "metadata": {},
   "outputs": [
    {
     "data": {
      "image/png": "[encoded data removed]",
      "text/plain": [
       "<Figure size 432x288 with 2 Axes>"
      ]
     },
     "metadata": {
      "needs_background": "light"
     },
     "output_type": "display_data"
    }
   ],
   "source": [
    "sns.heatmap(confusion_matrix(y_test, y_hat), annot = True);"
   ]
  },
  {
   "cell_type": "code",
   "execution_count": 158,
   "id": "83295df4",
   "metadata": {},
   "outputs": [
    {
     "name": "stdout",
     "output_type": "stream",
     "text": [
      "Error Metrics\n",
      "\n",
      "               precision    recall  f1-score   support\n",
      "\n",
      "           0       0.89      0.89      0.89        18\n",
      "           1       0.00      0.00      0.00         2\n",
      "\n",
      "    accuracy                           0.80        20\n",
      "   macro avg       0.44      0.44      0.44        20\n",
      "weighted avg       0.80      0.80      0.80        20\n",
      "\n"
     ]
    }
   ],
   "source": [
    "# Classification Error Metrics\n",
    "print('Error Metrics\\n\\n', classification_report(y_test, y_hat, zero_division = 0))"
   ]
  },
  {
   "cell_type": "code",
   "execution_count": 159,
   "id": "2ba59862",
   "metadata": {},
   "outputs": [
    {
     "data": {
      "image/png": "[encoded data removed]",
      "text/plain": [
       "<Figure size 1080x360 with 1 Axes>"
      ]
     },
     "metadata": {
      "needs_background": "light"
     },
     "output_type": "display_data"
    }
   ],
   "source": [
    "logit_auc_score = roc_auc_score(y_test, y_hat) # Generating AUC Score\n",
    "fpr, tpr, thresholds = roc_curve(y_test, model.predict_proba(x_test)[:, 1]) # Generating TPR, FPR and Thresholds Score\n",
    "plt.figure(figsize = (15, 5))\n",
    "plt.title(\"Receiver Operating Characteristics Curve\")\n",
    "plt.plot(fpr, tpr, 'g', label = \"Naive Bayes (AUC = %0.2f)\" % logit_auc_score) # Plotting ROC curve with AUC score\n",
    "plt.plot([0, 1], [0, 1],  'r--')\n",
    "plt.xlim([0.0, 1.0])\n",
    "plt.ylim([0.0, 1.0])\n",
    "plt.xlabel(\"False Positivity Rate\")\n",
    "plt.ylabel(\"True Positivity Rate\")\n",
    "plt.legend(loc = \"lower right\");"
   ]
  },
  {
   "cell_type": "markdown",
   "id": "38b9bd7e",
   "metadata": {},
   "source": [
    "#### KNeighborsClassifier\n",
    "* SVC"
   ]
  },
  {
   "cell_type": "code",
   "execution_count": 160,
   "id": "87d3a58f",
   "metadata": {},
   "outputs": [],
   "source": [
    "model = KNeighborsClassifier().fit(x_train, y_train)"
   ]
  },
  {
   "cell_type": "code",
   "execution_count": 161,
   "id": "0e69d1e2",
   "metadata": {},
   "outputs": [
    {
     "data": {
      "text/html": [
       "<div>\n",
       "<style scoped>\n",
       "    .dataframe tbody tr th:only-of-type {\n",
       "        vertical-align: middle;\n",
       "    }\n",
       "\n",
       "    .dataframe tbody tr th {\n",
       "        vertical-align: top;\n",
       "    }\n",
       "\n",
       "    .dataframe thead th {\n",
       "        text-align: right;\n",
       "    }\n",
       "</style>\n",
       "<table border=\"1\" class=\"dataframe\">\n",
       "  <thead>\n",
       "    <tr style=\"text-align: right;\">\n",
       "      <th></th>\n",
       "      <th>Actual Class</th>\n",
       "      <th>Predicted Class</th>\n",
       "    </tr>\n",
       "  </thead>\n",
       "  <tbody>\n",
       "    <tr>\n",
       "      <th>91</th>\n",
       "      <td>0</td>\n",
       "      <td>0</td>\n",
       "    </tr>\n",
       "    <tr>\n",
       "      <th>41</th>\n",
       "      <td>0</td>\n",
       "      <td>0</td>\n",
       "    </tr>\n",
       "    <tr>\n",
       "      <th>25</th>\n",
       "      <td>0</td>\n",
       "      <td>0</td>\n",
       "    </tr>\n",
       "    <tr>\n",
       "      <th>1</th>\n",
       "      <td>0</td>\n",
       "      <td>0</td>\n",
       "    </tr>\n",
       "    <tr>\n",
       "      <th>6</th>\n",
       "      <td>0</td>\n",
       "      <td>0</td>\n",
       "    </tr>\n",
       "  </tbody>\n",
       "</table>\n",
       "</div>"
      ],
      "text/plain": [
       "    Actual Class  Predicted Class\n",
       "91             0                0\n",
       "41             0                0\n",
       "25             0                0\n",
       "1              0                0\n",
       "6              0                0"
      ]
     },
     "execution_count": 161,
     "metadata": {},
     "output_type": "execute_result"
    }
   ],
   "source": [
    "y_hat = model.predict(x_test)\n",
    "# Comparing Actual and Predicted Data\n",
    "comp = pd.DataFrame({\"Actual Class\" : y_test, \"Predicted Class\": y_hat})\n",
    "comp.head()"
   ]
  },
  {
   "cell_type": "code",
   "execution_count": 162,
   "id": "3bde7275",
   "metadata": {},
   "outputs": [
    {
     "data": {
      "image/png": "[encoded data removed]",
      "text/plain": [
       "<Figure size 432x288 with 2 Axes>"
      ]
     },
     "metadata": {
      "needs_background": "light"
     },
     "output_type": "display_data"
    }
   ],
   "source": [
    "sns.heatmap(confusion_matrix(y_test, y_hat), annot = True);"
   ]
  },
  {
   "cell_type": "code",
   "execution_count": 163,
   "id": "e34a072e",
   "metadata": {},
   "outputs": [
    {
     "name": "stdout",
     "output_type": "stream",
     "text": [
      "Error Metrics\n",
      "\n",
      "               precision    recall  f1-score   support\n",
      "\n",
      "           0       0.89      0.89      0.89        18\n",
      "           1       0.00      0.00      0.00         2\n",
      "\n",
      "    accuracy                           0.80        20\n",
      "   macro avg       0.44      0.44      0.44        20\n",
      "weighted avg       0.80      0.80      0.80        20\n",
      "\n"
     ]
    }
   ],
   "source": [
    "# Classification Error Metrics\n",
    "print('Error Metrics\\n\\n', classification_report(y_test, y_hat, zero_division = 0))"
   ]
  },
  {
   "cell_type": "code",
   "execution_count": 164,
   "id": "d23ede33",
   "metadata": {},
   "outputs": [
    {
     "data": {
      "image/png": "[encoded data removed]",
      "text/plain": [
       "<Figure size 1080x360 with 1 Axes>"
      ]
     },
     "metadata": {
      "needs_background": "light"
     },
     "output_type": "display_data"
    }
   ],
   "source": [
    "logit_auc_score = roc_auc_score(y_test, y_hat) # Generating AUC Score\n",
    "fpr, tpr, thresholds = roc_curve(y_test, model.predict_proba(x_test)[:, 1]) # Generating TPR, FPR and Thresholds Score\n",
    "plt.figure(figsize = (15, 5))\n",
    "plt.title(\"Receiver Operating Characteristics Curve\")\n",
    "plt.plot(fpr, tpr, 'g', label = \"KNN (AUC = %0.2f)\" % logit_auc_score) # Plotting ROC curve with AUC score\n",
    "plt.plot([0, 1], [0, 1],  'r--')\n",
    "plt.xlim([0.0, 1.0])\n",
    "plt.ylim([0.0, 1.0])\n",
    "plt.xlabel(\"False Positivity Rate\")\n",
    "plt.ylabel(\"True Positivity Rate\")\n",
    "plt.legend(loc = \"lower right\");"
   ]
  },
  {
   "cell_type": "markdown",
   "id": "625cdf59",
   "metadata": {},
   "source": [
    "# Support Vector Machine"
   ]
  },
  {
   "cell_type": "code",
   "execution_count": 172,
   "id": "170bd5d2",
   "metadata": {},
   "outputs": [],
   "source": [
    "model = SVC(probability=True).fit(x_train, y_train)"
   ]
  },
  {
   "cell_type": "code",
   "execution_count": 173,
   "id": "38dcdaf0",
   "metadata": {},
   "outputs": [
    {
     "data": {
      "text/html": [
       "<div>\n",
       "<style scoped>\n",
       "    .dataframe tbody tr th:only-of-type {\n",
       "        vertical-align: middle;\n",
       "    }\n",
       "\n",
       "    .dataframe tbody tr th {\n",
       "        vertical-align: top;\n",
       "    }\n",
       "\n",
       "    .dataframe thead th {\n",
       "        text-align: right;\n",
       "    }\n",
       "</style>\n",
       "<table border=\"1\" class=\"dataframe\">\n",
       "  <thead>\n",
       "    <tr style=\"text-align: right;\">\n",
       "      <th></th>\n",
       "      <th>Actual Class</th>\n",
       "      <th>Predicted Class</th>\n",
       "    </tr>\n",
       "  </thead>\n",
       "  <tbody>\n",
       "    <tr>\n",
       "      <th>91</th>\n",
       "      <td>0</td>\n",
       "      <td>0</td>\n",
       "    </tr>\n",
       "    <tr>\n",
       "      <th>41</th>\n",
       "      <td>0</td>\n",
       "      <td>0</td>\n",
       "    </tr>\n",
       "    <tr>\n",
       "      <th>25</th>\n",
       "      <td>0</td>\n",
       "      <td>0</td>\n",
       "    </tr>\n",
       "    <tr>\n",
       "      <th>1</th>\n",
       "      <td>0</td>\n",
       "      <td>0</td>\n",
       "    </tr>\n",
       "    <tr>\n",
       "      <th>6</th>\n",
       "      <td>0</td>\n",
       "      <td>0</td>\n",
       "    </tr>\n",
       "  </tbody>\n",
       "</table>\n",
       "</div>"
      ],
      "text/plain": [
       "    Actual Class  Predicted Class\n",
       "91             0                0\n",
       "41             0                0\n",
       "25             0                0\n",
       "1              0                0\n",
       "6              0                0"
      ]
     },
     "execution_count": 173,
     "metadata": {},
     "output_type": "execute_result"
    }
   ],
   "source": [
    "y_hat = model.predict(x_test)\n",
    "# Comparing Actual and Predicted Data\n",
    "comp = pd.DataFrame({\"Actual Class\" : y_test, \"Predicted Class\": y_hat})\n",
    "comp.head()"
   ]
  },
  {
   "cell_type": "code",
   "execution_count": 174,
   "id": "4db9be73",
   "metadata": {},
   "outputs": [
    {
     "data": {
      "image/png": "[encoded data removed]",
      "text/plain": [
       "<Figure size 432x288 with 2 Axes>"
      ]
     },
     "metadata": {
      "needs_background": "light"
     },
     "output_type": "display_data"
    }
   ],
   "source": [
    "sns.heatmap(confusion_matrix(y_test, y_hat), annot = True);"
   ]
  },
  {
   "cell_type": "code",
   "execution_count": 175,
   "id": "86d9ee11",
   "metadata": {},
   "outputs": [
    {
     "name": "stdout",
     "output_type": "stream",
     "text": [
      "Error Metrics\n",
      "\n",
      "               precision    recall  f1-score   support\n",
      "\n",
      "           0       0.90      1.00      0.95        18\n",
      "           1       0.00      0.00      0.00         2\n",
      "\n",
      "    accuracy                           0.90        20\n",
      "   macro avg       0.45      0.50      0.47        20\n",
      "weighted avg       0.81      0.90      0.85        20\n",
      "\n"
     ]
    }
   ],
   "source": [
    "# Classification Error Metrics\n",
    "print('Error Metrics\\n\\n', classification_report(y_test, y_hat, zero_division = 0))"
   ]
  },
  {
   "cell_type": "code",
   "execution_count": 176,
   "id": "5ba6a1fb",
   "metadata": {},
   "outputs": [
    {
     "data": {
      "image/png": "[encoded data removed]",
      "text/plain": [
       "<Figure size 1080x360 with 1 Axes>"
      ]
     },
     "metadata": {
      "needs_background": "light"
     },
     "output_type": "display_data"
    }
   ],
   "source": [
    "logit_auc_score = roc_auc_score(y_test, y_hat) # Generating AUC Score\n",
    "fpr, tpr, thresholds = roc_curve(y_test, model.predict_proba(x_test)[:, 1]) # Generating TPR, FPR and Thresholds Score\n",
    "plt.figure(figsize = (15, 5))\n",
    "plt.title(\"Receiver Operating Characteristics Curve\")\n",
    "plt.plot(fpr, tpr, 'g', label = \"SVC (AUC = %0.2f)\" % logit_auc_score) # Plotting ROC curve with AUC score\n",
    "plt.plot([0, 1], [0, 1],  'r--')\n",
    "plt.xlim([0.0, 1.0])\n",
    "plt.ylim([0.0, 1.0])\n",
    "plt.xlabel(\"False Positivity Rate\")\n",
    "plt.ylabel(\"True Positivity Rate\")\n",
    "plt.legend(loc = \"lower right\");"
   ]
  },
  {
   "cell_type": "markdown",
   "id": "a5ced622",
   "metadata": {},
   "source": [
    "# RandomForestClassifier"
   ]
  },
  {
   "cell_type": "code",
   "execution_count": 177,
   "id": "3d602b61",
   "metadata": {},
   "outputs": [],
   "source": [
    "model = RandomForestClassifier().fit(x_train, y_train)"
   ]
  },
  {
   "cell_type": "code",
   "execution_count": 178,
   "id": "d6da074c",
   "metadata": {},
   "outputs": [
    {
     "data": {
      "text/html": [
       "<div>\n",
       "<style scoped>\n",
       "    .dataframe tbody tr th:only-of-type {\n",
       "        vertical-align: middle;\n",
       "    }\n",
       "\n",
       "    .dataframe tbody tr th {\n",
       "        vertical-align: top;\n",
       "    }\n",
       "\n",
       "    .dataframe thead th {\n",
       "        text-align: right;\n",
       "    }\n",
       "</style>\n",
       "<table border=\"1\" class=\"dataframe\">\n",
       "  <thead>\n",
       "    <tr style=\"text-align: right;\">\n",
       "      <th></th>\n",
       "      <th>Actual Class</th>\n",
       "      <th>Predicted Class</th>\n",
       "    </tr>\n",
       "  </thead>\n",
       "  <tbody>\n",
       "    <tr>\n",
       "      <th>91</th>\n",
       "      <td>0</td>\n",
       "      <td>0</td>\n",
       "    </tr>\n",
       "    <tr>\n",
       "      <th>41</th>\n",
       "      <td>0</td>\n",
       "      <td>0</td>\n",
       "    </tr>\n",
       "    <tr>\n",
       "      <th>25</th>\n",
       "      <td>0</td>\n",
       "      <td>0</td>\n",
       "    </tr>\n",
       "    <tr>\n",
       "      <th>1</th>\n",
       "      <td>0</td>\n",
       "      <td>0</td>\n",
       "    </tr>\n",
       "    <tr>\n",
       "      <th>6</th>\n",
       "      <td>0</td>\n",
       "      <td>0</td>\n",
       "    </tr>\n",
       "  </tbody>\n",
       "</table>\n",
       "</div>"
      ],
      "text/plain": [
       "    Actual Class  Predicted Class\n",
       "91             0                0\n",
       "41             0                0\n",
       "25             0                0\n",
       "1              0                0\n",
       "6              0                0"
      ]
     },
     "execution_count": 178,
     "metadata": {},
     "output_type": "execute_result"
    }
   ],
   "source": [
    "y_hat = model.predict(x_test)\n",
    "# Comparing Actual and Predicted Data\n",
    "comp = pd.DataFrame({\"Actual Class\" : y_test, \"Predicted Class\": y_hat})\n",
    "comp.head()"
   ]
  },
  {
   "cell_type": "code",
   "execution_count": 179,
   "id": "182db73e",
   "metadata": {},
   "outputs": [
    {
     "data": {
      "image/png": "[encoded data removed]",
      "text/plain": [
       "<Figure size 432x288 with 2 Axes>"
      ]
     },
     "metadata": {
      "needs_background": "light"
     },
     "output_type": "display_data"
    }
   ],
   "source": [
    "sns.heatmap(confusion_matrix(y_test, y_hat), annot = True);"
   ]
  },
  {
   "cell_type": "code",
   "execution_count": 180,
   "id": "16105f03",
   "metadata": {},
   "outputs": [
    {
     "name": "stdout",
     "output_type": "stream",
     "text": [
      "Error Metrics\n",
      "\n",
      "               precision    recall  f1-score   support\n",
      "\n",
      "           0       0.95      1.00      0.97        18\n",
      "           1       1.00      0.50      0.67         2\n",
      "\n",
      "    accuracy                           0.95        20\n",
      "   macro avg       0.97      0.75      0.82        20\n",
      "weighted avg       0.95      0.95      0.94        20\n",
      "\n"
     ]
    }
   ],
   "source": [
    "# Classification Error Metrics\n",
    "print('Error Metrics\\n\\n', classification_report(y_test, y_hat, zero_division = 0))"
   ]
  },
  {
   "cell_type": "code",
   "execution_count": 181,
   "id": "7558c452",
   "metadata": {},
   "outputs": [
    {
     "data": {
      "image/png": "[encoded data removed]",
      "text/plain": [
       "<Figure size 1080x360 with 1 Axes>"
      ]
     },
     "metadata": {
      "needs_background": "light"
     },
     "output_type": "display_data"
    }
   ],
   "source": [
    "logit_auc_score = roc_auc_score(y_test, y_hat) # Generating AUC Score\n",
    "fpr, tpr, thresholds = roc_curve(y_test, model.predict_proba(x_test)[:, 1]) # Generating TPR, FPR and Thresholds Score\n",
    "plt.figure(figsize = (15, 5))\n",
    "plt.title(\"Receiver Operating Characteristics Curve\")\n",
    "plt.plot(fpr, tpr, 'g', label = \"SVC (AUC = %0.2f)\" % logit_auc_score) # Plotting ROC curve with AUC score\n",
    "plt.plot([0, 1], [0, 1],  'r--')\n",
    "plt.xlim([0.0, 1.0])\n",
    "plt.ylim([0.0, 1.0])\n",
    "plt.xlabel(\"False Positivity Rate\")\n",
    "plt.ylabel(\"True Positivity Rate\")\n",
    "plt.legend(loc = \"lower right\");"
   ]
  },
  {
   "cell_type": "markdown",
   "id": "c1ff28d2",
   "metadata": {},
   "source": [
    "# Generalizing the model"
   ]
  },
  {
   "cell_type": "code",
   "execution_count": 182,
   "id": "8a5eef4f",
   "metadata": {},
   "outputs": [],
   "source": [
    "grid_param = {\n",
    "    'n_estimators': [100, 300, 500, 800, 1000],\n",
    "    'criterion': ['gini', 'entropy'],\n",
    "    'bootstrap': [True, False]\n",
    "}"
   ]
  },
  {
   "cell_type": "code",
   "execution_count": 184,
   "id": "4968c650",
   "metadata": {},
   "outputs": [],
   "source": [
    "from sklearn.model_selection import GridSearchCV\n",
    "\n",
    "gd_sr = GridSearchCV(estimator=RandomForestClassifier(),\n",
    "                     param_grid=grid_param,\n",
    "                     scoring='accuracy', # use 'f1' for F1score metric\n",
    "                     cv=5,\n",
    "                     n_jobs=-1)"
   ]
  },
  {
   "cell_type": "code",
   "execution_count": 186,
   "id": "b4ae6082",
   "metadata": {},
   "outputs": [
    {
     "data": {
      "text/plain": [
       "GridSearchCV(cv=5, estimator=RandomForestClassifier(), n_jobs=-1,\n",
       "             param_grid={'bootstrap': [True, False],\n",
       "                         'criterion': ['gini', 'entropy'],\n",
       "                         'n_estimators': [100, 300, 500, 800, 1000]},\n",
       "             scoring='accuracy')"
      ]
     },
     "execution_count": 186,
     "metadata": {},
     "output_type": "execute_result"
    }
   ],
   "source": [
    "gd_sr.fit(x_train, y_train)"
   ]
  },
  {
   "cell_type": "code",
   "execution_count": 187,
   "id": "536f9bb9",
   "metadata": {},
   "outputs": [
    {
     "name": "stdout",
     "output_type": "stream",
     "text": [
      "{'bootstrap': True, 'criterion': 'entropy', 'n_estimators': 500}\n"
     ]
    }
   ],
   "source": [
    "best_parameters = gd_sr.best_params_\n",
    "print(best_parameters)"
   ]
  },
  {
   "cell_type": "code",
   "execution_count": 188,
   "id": "9f33d833",
   "metadata": {},
   "outputs": [
    {
     "name": "stdout",
     "output_type": "stream",
     "text": [
      "0.7825\n"
     ]
    }
   ],
   "source": [
    "best_result = gd_sr.best_score_\n",
    "print(best_result)"
   ]
  },
  {
   "cell_type": "code",
   "execution_count": 190,
   "id": "6b3ee5eb",
   "metadata": {},
   "outputs": [
    {
     "data": {
      "text/plain": [
       "RandomForestClassifier(criterion='entropy', n_estimators=500)"
      ]
     },
     "execution_count": 190,
     "metadata": {},
     "output_type": "execute_result"
    }
   ],
   "source": [
    "clf = RandomForestClassifier(bootstrap = True, criterion = 'entropy', n_estimators = 500)\n",
    "clf.fit(x_train, y_train)"
   ]
  },
  {
   "cell_type": "markdown",
   "id": "b57dc40b",
   "metadata": {},
   "source": [
    "#### Finally We can choose RF classifier after hyper parameter optimization\n",
    "#### we can now use these same parameters after handling class imbalance"
   ]
  },
  {
   "cell_type": "markdown",
   "id": "798848a3",
   "metadata": {},
   "source": [
    "# Handling Class Imbalance using SMOTE"
   ]
  },
  {
   "cell_type": "code",
   "execution_count": 193,
   "id": "70ce7290",
   "metadata": {},
   "outputs": [
    {
     "name": "stdout",
     "output_type": "stream",
     "text": [
      "Original dataset shape Counter({0: 80, 1: 18})\n",
      "Resample dataset shape Counter({1: 80, 0: 80})\n"
     ]
    }
   ],
   "source": [
    "# import library\n",
    "from collections import Counter\n",
    "from imblearn.over_sampling import SMOTE\n",
    "\n",
    "smote = SMOTE()\n",
    "\n",
    "# fit predictor and target variable\n",
    "x_smote, y_smote = smote.fit_resample(x, y)\n",
    "\n",
    "print('Original dataset shape', Counter(y))\n",
    "print('Resample dataset shape', Counter(y_smote))"
   ]
  },
  {
   "cell_type": "code",
   "execution_count": 198,
   "id": "3fab502e",
   "metadata": {},
   "outputs": [
    {
     "data": {
      "image/png": "[encoded data removed]",
      "text/plain": [
       "<Figure size 432x288 with 1 Axes>"
      ]
     },
     "metadata": {
      "needs_background": "light"
     },
     "output_type": "display_data"
    }
   ],
   "source": [
    "sns.countplot(x = y_smote, data = y_smote);"
   ]
  },
  {
   "cell_type": "markdown",
   "id": "bf1da8e8",
   "metadata": {},
   "source": [
    "* Now that the classes are balanced, we can build a model on top of this over-sampled data"
   ]
  },
  {
   "cell_type": "code",
   "execution_count": 202,
   "id": "10104909",
   "metadata": {},
   "outputs": [
    {
     "data": {
      "text/html": [
       "<div>\n",
       "<style scoped>\n",
       "    .dataframe tbody tr th:only-of-type {\n",
       "        vertical-align: middle;\n",
       "    }\n",
       "\n",
       "    .dataframe tbody tr th {\n",
       "        vertical-align: top;\n",
       "    }\n",
       "\n",
       "    .dataframe thead th {\n",
       "        text-align: right;\n",
       "    }\n",
       "</style>\n",
       "<table border=\"1\" class=\"dataframe\">\n",
       "  <thead>\n",
       "    <tr style=\"text-align: right;\">\n",
       "      <th></th>\n",
       "      <th>Transaction Type</th>\n",
       "      <th>Post Type</th>\n",
       "      <th>MJR Industry</th>\n",
       "      <th>Flag Type</th>\n",
       "      <th>Broker Key</th>\n",
       "      <th>KPI Client Name</th>\n",
       "      <th>Client Fund Group</th>\n",
       "      <th>Share Quantity</th>\n",
       "      <th>Net Value</th>\n",
       "      <th>Count</th>\n",
       "      <th>Churn</th>\n",
       "    </tr>\n",
       "  </thead>\n",
       "  <tbody>\n",
       "    <tr>\n",
       "      <th>0</th>\n",
       "      <td>-1.063219</td>\n",
       "      <td>1.480494</td>\n",
       "      <td>1.280393</td>\n",
       "      <td>-0.373544</td>\n",
       "      <td>1.814111</td>\n",
       "      <td>-1.283637</td>\n",
       "      <td>-1.210188</td>\n",
       "      <td>-0.184238</td>\n",
       "      <td>-0.336826</td>\n",
       "      <td>0.731059</td>\n",
       "      <td>1</td>\n",
       "    </tr>\n",
       "    <tr>\n",
       "      <th>1</th>\n",
       "      <td>-1.063219</td>\n",
       "      <td>0.544440</td>\n",
       "      <td>-1.280393</td>\n",
       "      <td>-0.373544</td>\n",
       "      <td>0.191581</td>\n",
       "      <td>0.184804</td>\n",
       "      <td>0.168863</td>\n",
       "      <td>-0.616184</td>\n",
       "      <td>-0.875329</td>\n",
       "      <td>1.477348</td>\n",
       "      <td>0</td>\n",
       "    </tr>\n",
       "    <tr>\n",
       "      <th>2</th>\n",
       "      <td>-1.063219</td>\n",
       "      <td>-0.391615</td>\n",
       "      <td>0.426798</td>\n",
       "      <td>-0.373544</td>\n",
       "      <td>-0.271998</td>\n",
       "      <td>0.184804</td>\n",
       "      <td>1.547915</td>\n",
       "      <td>1.543546</td>\n",
       "      <td>1.260536</td>\n",
       "      <td>-1.507808</td>\n",
       "      <td>0</td>\n",
       "    </tr>\n",
       "    <tr>\n",
       "      <th>3</th>\n",
       "      <td>0.940540</td>\n",
       "      <td>1.480494</td>\n",
       "      <td>0.426798</td>\n",
       "      <td>-0.373544</td>\n",
       "      <td>1.582321</td>\n",
       "      <td>1.653244</td>\n",
       "      <td>0.168863</td>\n",
       "      <td>-1.566466</td>\n",
       "      <td>-1.181592</td>\n",
       "      <td>-0.761519</td>\n",
       "      <td>0</td>\n",
       "    </tr>\n",
       "    <tr>\n",
       "      <th>4</th>\n",
       "      <td>0.940540</td>\n",
       "      <td>-1.327669</td>\n",
       "      <td>-0.426798</td>\n",
       "      <td>-0.373544</td>\n",
       "      <td>-1.430948</td>\n",
       "      <td>-0.794157</td>\n",
       "      <td>0.168863</td>\n",
       "      <td>-1.480077</td>\n",
       "      <td>1.567159</td>\n",
       "      <td>1.477348</td>\n",
       "      <td>0</td>\n",
       "    </tr>\n",
       "  </tbody>\n",
       "</table>\n",
       "</div>"
      ],
      "text/plain": [
       "   Transaction Type  Post Type  MJR Industry  Flag Type  Broker Key  \\\n",
       "0         -1.063219   1.480494      1.280393  -0.373544    1.814111   \n",
       "1         -1.063219   0.544440     -1.280393  -0.373544    0.191581   \n",
       "2         -1.063219  -0.391615      0.426798  -0.373544   -0.271998   \n",
       "3          0.940540   1.480494      0.426798  -0.373544    1.582321   \n",
       "4          0.940540  -1.327669     -0.426798  -0.373544   -1.430948   \n",
       "\n",
       "   KPI Client Name  Client Fund Group  Share Quantity  Net Value     Count  \\\n",
       "0        -1.283637          -1.210188       -0.184238  -0.336826  0.731059   \n",
       "1         0.184804           0.168863       -0.616184  -0.875329  1.477348   \n",
       "2         0.184804           1.547915        1.543546   1.260536 -1.507808   \n",
       "3         1.653244           0.168863       -1.566466  -1.181592 -0.761519   \n",
       "4        -0.794157           0.168863       -1.480077   1.567159  1.477348   \n",
       "\n",
       "   Churn  \n",
       "0      1  \n",
       "1      0  \n",
       "2      0  \n",
       "3      0  \n",
       "4      0  "
      ]
     },
     "execution_count": 202,
     "metadata": {},
     "output_type": "execute_result"
    }
   ],
   "source": [
    "finaldf = x_smote.join(y_smote)\n",
    "finaldf.head()"
   ]
  },
  {
   "cell_type": "code",
   "execution_count": 203,
   "id": "5a36450b",
   "metadata": {},
   "outputs": [
    {
     "data": {
      "text/plain": [
       "(160, 11)"
      ]
     },
     "execution_count": 203,
     "metadata": {},
     "output_type": "execute_result"
    }
   ],
   "source": [
    "finaldf.shape"
   ]
  },
  {
   "cell_type": "code",
   "execution_count": 212,
   "id": "51ec600a",
   "metadata": {},
   "outputs": [],
   "source": [
    "x = finaldf.drop(columns = \"Churn\")\n",
    "y = finaldf.iloc[:, -1]"
   ]
  },
  {
   "cell_type": "code",
   "execution_count": 213,
   "id": "7e6404f7",
   "metadata": {},
   "outputs": [
    {
     "name": "stdout",
     "output_type": "stream",
     "text": [
      "    Transaction Type  Post Type  MJR Industry  Flag Type  Broker Key  \\\n",
      "80          0.940540  -0.391615      1.280393  -0.373544   -0.040208   \n",
      "48         -1.063219  -0.391615      0.426798  -0.373544   -0.271998   \n",
      "\n",
      "    KPI Client Name  Client Fund Group  Share Quantity  Net Value     Count  \n",
      "80         0.674284          -0.520662        1.457157  -0.971617 -1.507808  \n",
      "48         0.184804           1.547915       -0.097849   1.119996 -0.761519  \n",
      "(128, 10)\n",
      "     Transaction Type  Post Type  MJR Industry  Flag Type  Broker Key  \\\n",
      "104         -1.063219  -1.327669      1.135723  -0.373544   -1.006652   \n",
      "42          -1.063219   1.480494     -1.280393  -0.373544    1.118741   \n",
      "\n",
      "     KPI Client Name  Client Fund Group  Share Quantity  Net Value     Count  \n",
      "104        -0.794157          -0.976463        1.154065   1.369533 -0.635037  \n",
      "42          0.184804           1.547915        1.111600  -0.621372 -1.507808  \n",
      "(32, 10)\n",
      "80    1\n",
      "48    0\n",
      "Name: Churn, dtype: int32\n",
      "(128,)\n",
      "104    1\n",
      "42     0\n",
      "Name: Churn, dtype: int32\n",
      "(32,)\n"
     ]
    }
   ],
   "source": [
    "x_train, x_test, y_train, y_test = train_test_split(x, y, test_size = 0.2, random_state = 101)\n",
    "for i in [x_train, x_test, y_train, y_test]:\n",
    "    print(i.head(2))\n",
    "    print(i.shape)"
   ]
  },
  {
   "cell_type": "markdown",
   "id": "93bbecad",
   "metadata": {},
   "source": [
    "# building the best model on the balanced data"
   ]
  },
  {
   "cell_type": "code",
   "execution_count": 214,
   "id": "7cffe6c3",
   "metadata": {},
   "outputs": [
    {
     "data": {
      "text/plain": [
       "RandomForestClassifier(criterion='entropy', n_estimators=500)"
      ]
     },
     "execution_count": 214,
     "metadata": {},
     "output_type": "execute_result"
    }
   ],
   "source": [
    "model = RandomForestClassifier(bootstrap = True, criterion = 'entropy', n_estimators = 500)\n",
    "model.fit(x_train, y_train)"
   ]
  },
  {
   "cell_type": "code",
   "execution_count": 215,
   "id": "68b28e4a",
   "metadata": {},
   "outputs": [
    {
     "data": {
      "text/html": [
       "<div>\n",
       "<style scoped>\n",
       "    .dataframe tbody tr th:only-of-type {\n",
       "        vertical-align: middle;\n",
       "    }\n",
       "\n",
       "    .dataframe tbody tr th {\n",
       "        vertical-align: top;\n",
       "    }\n",
       "\n",
       "    .dataframe thead th {\n",
       "        text-align: right;\n",
       "    }\n",
       "</style>\n",
       "<table border=\"1\" class=\"dataframe\">\n",
       "  <thead>\n",
       "    <tr style=\"text-align: right;\">\n",
       "      <th></th>\n",
       "      <th>Actual Class</th>\n",
       "      <th>Predicted Class</th>\n",
       "    </tr>\n",
       "  </thead>\n",
       "  <tbody>\n",
       "    <tr>\n",
       "      <th>104</th>\n",
       "      <td>1</td>\n",
       "      <td>1</td>\n",
       "    </tr>\n",
       "    <tr>\n",
       "      <th>42</th>\n",
       "      <td>0</td>\n",
       "      <td>0</td>\n",
       "    </tr>\n",
       "    <tr>\n",
       "      <th>55</th>\n",
       "      <td>0</td>\n",
       "      <td>1</td>\n",
       "    </tr>\n",
       "    <tr>\n",
       "      <th>102</th>\n",
       "      <td>1</td>\n",
       "      <td>1</td>\n",
       "    </tr>\n",
       "    <tr>\n",
       "      <th>33</th>\n",
       "      <td>1</td>\n",
       "      <td>1</td>\n",
       "    </tr>\n",
       "  </tbody>\n",
       "</table>\n",
       "</div>"
      ],
      "text/plain": [
       "     Actual Class  Predicted Class\n",
       "104             1                1\n",
       "42              0                0\n",
       "55              0                1\n",
       "102             1                1\n",
       "33              1                1"
      ]
     },
     "execution_count": 215,
     "metadata": {},
     "output_type": "execute_result"
    }
   ],
   "source": [
    "y_hat = model.predict(x_test)\n",
    "# Comparing Actual and Predicted Data\n",
    "comp = pd.DataFrame({\"Actual Class\" : y_test, \"Predicted Class\": y_hat})\n",
    "comp.head()"
   ]
  },
  {
   "cell_type": "code",
   "execution_count": 216,
   "id": "7ead06c8",
   "metadata": {},
   "outputs": [
    {
     "data": {
      "image/png": "[encoded data removed]",
      "text/plain": [
       "<Figure size 432x288 with 2 Axes>"
      ]
     },
     "metadata": {
      "needs_background": "light"
     },
     "output_type": "display_data"
    }
   ],
   "source": [
    "sns.heatmap(confusion_matrix(y_test, y_hat), annot = True);"
   ]
  },
  {
   "cell_type": "code",
   "execution_count": 217,
   "id": "3abc50ba",
   "metadata": {
    "scrolled": true
   },
   "outputs": [
    {
     "name": "stdout",
     "output_type": "stream",
     "text": [
      "Error Metrics\n",
      "\n",
      "               precision    recall  f1-score   support\n",
      "\n",
      "           0       0.93      0.81      0.87        16\n",
      "           1       0.83      0.94      0.88        16\n",
      "\n",
      "    accuracy                           0.88        32\n",
      "   macro avg       0.88      0.88      0.87        32\n",
      "weighted avg       0.88      0.88      0.87        32\n",
      "\n"
     ]
    }
   ],
   "source": [
    "# Classification Error Metrics\n",
    "print('Error Metrics\\n\\n', classification_report(y_test, y_hat, zero_division = 0))"
   ]
  },
  {
   "cell_type": "code",
   "execution_count": 218,
   "id": "b9b596d0",
   "metadata": {},
   "outputs": [
    {
     "data": {
      "image/png": "[encoded data removed]",
      "text/plain": [
       "<Figure size 1080x360 with 1 Axes>"
      ]
     },
     "metadata": {
      "needs_background": "light"
     },
     "output_type": "display_data"
    }
   ],
   "source": [
    "logit_auc_score = roc_auc_score(y_test, y_hat) # Generating AUC Score\n",
    "fpr, tpr, thresholds = roc_curve(y_test, model.predict_proba(x_test)[:, 1]) # Generating TPR, FPR and Thresholds Score\n",
    "plt.figure(figsize = (15, 5))\n",
    "plt.title(\"Receiver Operating Characteristics Curve\")\n",
    "plt.plot(fpr, tpr, 'g', label = \"RFC (AUC = %0.2f)\" % logit_auc_score) # Plotting ROC curve with AUC score\n",
    "plt.plot([0, 1], [0, 1],  'r--')\n",
    "plt.xlim([0.0, 1.0])\n",
    "plt.ylim([0.0, 1.0])\n",
    "plt.xlabel(\"False Positivity Rate\")\n",
    "plt.ylabel(\"True Positivity Rate\")\n",
    "plt.legend(loc = \"lower right\");"
   ]
  }
 ],
 "metadata": {
  "kernelspec": {
   "display_name": "Python 3 (ipykernel)",
   "language": "python",
   "name": "python3"
  },
  "language_info": {
   "codemirror_mode": {
    "name": "ipython",
    "version": 3
   },
   "file_extension": ".py",
   "mimetype": "text/x-python",
   "name": "python",
   "nbconvert_exporter": "python",
   "pygments_lexer": "ipython3",
   "version": "3.9.7"
  }
 },
 "nbformat": 4,
 "nbformat_minor": 5
}
